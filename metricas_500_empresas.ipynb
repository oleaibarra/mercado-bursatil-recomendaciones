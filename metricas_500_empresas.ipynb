{
 "cells": [
  {
   "cell_type": "markdown",
   "metadata": {},
   "source": [
    "Para el análisis de rentabilidad y riesgo, podemos utilizar las siguientes mededias: coeficiente de Sharpe, relación de Sharpe, índice de Treynor, relación de Treynor y coeficiente de información."
   ]
  },
  {
   "cell_type": "code",
   "execution_count": 1,
   "metadata": {},
   "outputs": [],
   "source": [
    "import pandas as pd\n",
    "import yfinance as yf"
   ]
  },
  {
   "cell_type": "code",
   "execution_count": 7,
   "metadata": {},
   "outputs": [],
   "source": [
    "# tikers de las empresas del S&P 500\n",
    "tickers = ['MMM', 'AOS', 'ABT', 'ABBV', 'ACN', 'ATVI', 'ADM', 'ADBE', 'ADP', 'AAP', 'AES', 'AFL', 'A', 'APD', 'AKAM', 'ALK', 'ALB', 'ARE', 'ALGN', 'ALLE', 'LNT', 'ALL', 'GOOGL', 'GOOG', 'MO', 'AMZN', 'AMCR', 'AMD', 'AEE', 'AAL', 'AEP', 'AXP', 'AIG', 'AMT', 'AWK', 'AMP', 'ABC', 'AME', 'AMGN', 'APH', 'ADI', 'ANSS', 'AON', 'APA', 'AAPL', 'AMAT', 'APTV', 'ACGL', 'ANET', 'AJG', 'AIZ', 'T', 'ATO', 'ADSK', 'AZO', 'AVB', 'AVY', 'BKR', 'BALL', 'BAC', 'BBWI', 'BAX', 'BDX', 'WRB', 'BRK-B', 'BBY', 'BIO', 'TECH', 'BIIB', 'BLK', 'BK', 'BA', 'BKNG', 'BWA', 'BXP', 'BSX', 'BMY', 'AVGO', 'BR', 'BRO', 'BF-B', 'BG', 'CHRW', 'CDNS', 'CZR', 'CPT', 'CPB', 'COF', 'CAH', 'KMX', 'CCL', 'CARR', 'CTLT', 'CAT', 'CBOE', 'CBRE', 'CDW', 'CE', 'CNC', 'CNP', 'CDAY', 'CF', 'CRL', 'SCHW', 'CHTR', 'CVX', 'CMG', 'CB', 'CHD', 'CI', 'CINF', 'CTAS', 'CSCO', 'C', 'CFG', 'CLX', 'CME', 'CMS', 'KO', 'CTSH', 'CL', 'CMCSA', 'CMA', 'CAG', 'COP', 'ED', 'STZ', 'CEG', 'COO', 'CPRT', 'GLW', 'CTVA', 'CSGP', 'COST', 'CTRA', 'CCI', 'CSX', 'CMI', 'CVS', 'DHI', 'DHR', 'DRI', 'DVA', 'DE', 'DAL', 'XRAY', 'DVN', 'DXCM', 'FANG', 'DLR', 'DFS', 'DISH', 'DIS', 'DG', 'DLTR', 'D', 'DPZ', 'DOV', 'DOW', 'DTE', 'DUK', 'DD', 'DXC', 'EMN', 'ETN', 'EBAY', 'ECL', 'EIX', 'EW', 'EA', 'ELV', 'LLY', 'EMR', 'ENPH', 'ETR', 'EOG', 'EPAM', 'EQT', 'EFX', 'EQIX', 'EQR', 'ESS', 'EL', 'ETSY', 'RE', 'EVRG', 'ES', 'EXC', 'EXPE', 'EXPD', 'EXR', 'XOM', 'FFIV', 'FDS', 'FICO', 'FAST', 'FRT', 'FDX', 'FITB', 'FRC', 'FSLR', 'FE', 'FIS', 'FISV', 'FLT', 'FMC', 'F', 'FTNT', 'FTV', 'FOXA', 'FOX', 'BEN', 'FCX', 'GRMN', 'IT', 'GEHC', 'GEN', 'GNRC', 'GD', 'GE', 'GIS', 'GM', 'GPC', 'GILD', 'GL', 'GPN', 'GS', 'HAL', 'HIG', 'HAS', 'HCA', 'PEAK', 'HSIC', 'HSY', 'HES', 'HPE', 'HLT', 'HOLX', 'HD', 'HON', 'HRL', 'HST', 'HWM', 'HPQ', 'HUM', 'HBAN', 'HII', 'IBM', 'IEX', 'IDXX', 'ITW', 'ILMN', 'INCY', 'IR', 'PODD', 'INTC', 'ICE', 'IFF', 'IP', 'IPG', 'INTU', 'ISRG', 'IVZ', 'INVH', 'IQV', 'IRM', 'JBHT', 'JKHY', 'J', 'JNJ', 'JCI', 'JPM', 'JNPR', 'K', 'KDP', 'KEY', 'KEYS', 'KMB', 'KIM', 'KMI', 'KLAC', 'KHC', 'KR', 'LHX', 'LH', 'LRCX', 'LW', 'LVS', 'LDOS', 'LEN', 'LNC', 'LIN', 'LYV', 'LKQ', 'LMT', 'L', 'LOW', 'LYB', 'MTB', 'MRO', 'MPC', 'MKTX', 'MAR', 'MMC', 'MLM', 'MAS', 'MA', 'MTCH', 'MKC', 'MCD', 'MCK', 'MDT', 'MRK', 'META', 'MET', 'MTD', 'MGM', 'MCHP', 'MU', 'MSFT', 'MAA', 'MRNA', 'MHK', 'MOH', 'TAP', 'MDLZ', 'MPWR', 'MNST', 'MCO', 'MS', 'MOS', 'MSI', 'MSCI', 'NDAQ', 'NTAP', 'NFLX', 'NWL', 'NEM', 'NWSA', 'NWS', 'NEE', 'NKE', 'NI', 'NDSN', 'NSC', 'NTRS', 'NOC', 'NCLH', 'NRG', 'NUE', 'NVDA', 'NVR', 'NXPI', 'ORLY', 'OXY', 'ODFL', 'OMC', 'ON', 'OKE', 'ORCL', 'OGN', 'OTIS', 'PCAR', 'PKG', 'PARA', 'PH', 'PAYX', 'PAYC', 'PYPL', 'PNR', 'PEP', 'PKI', 'PFE', 'PCG', 'PM', 'PSX', 'PNW', 'PXD', 'PNC', 'POOL', 'PPG', 'PPL', 'PFG', 'PG', 'PGR', 'PLD', 'PRU', 'PEG', 'PTC', 'PSA', 'PHM', 'QRVO', 'PWR', 'QCOM', 'DGX', 'RL', 'RJF', 'RTX', 'O', 'REG', 'REGN', 'RF', 'RSG', 'RMD', 'RHI', 'ROK', 'ROL', 'ROP', 'ROST', 'RCL', 'SPGI', 'CRM', 'SBAC', 'SLB', 'STX', 'SEE', 'SRE', 'NOW', 'SHW', 'SPG', 'SWKS', 'SJM', 'SNA', 'SEDG', 'SO', 'LUV', 'SWK', 'SBUX', 'STT', 'STLD', 'STE', 'SYK', 'SYF', 'SNPS', 'SYY', 'TMUS', 'TROW', 'TTWO', 'TPR', 'TRGP', 'TGT', 'TEL', 'TDY', 'TFX', 'TER', 'TSLA', 'TXN', 'TXT', 'TMO', 'TJX', 'TSCO', 'TT', 'TDG', 'TRV', 'TRMB', 'TFC', 'TYL', 'TSN', 'USB', 'UDR', 'ULTA', 'UNP', 'UAL', 'UPS', 'URI', 'UNH', 'UHS', 'VLO', 'VTR', 'VRSN', 'VRSK', 'VZ', 'VRTX', 'VFC', 'VTRS', 'VICI', 'V', 'VMC', 'WAB', 'WBA', 'WMT', 'WBD', 'WM', 'WAT', 'WEC', 'WFC', 'WELL', 'WST', 'WDC', 'WRK', 'WY', 'WHR', 'WMB', 'WTW', 'GWW', 'WYNN', 'XEL', 'XYL', 'YUM', 'ZBRA', 'ZBH', 'ZION', 'ZTS']"
   ]
  },
  {
   "cell_type": "code",
   "execution_count": 8,
   "metadata": {},
   "outputs": [
    {
     "name": "stdout",
     "output_type": "stream",
     "text": [
      "[*********************100%***********************]  503 of 503 completed\n"
     ]
    }
   ],
   "source": [
    "# Descargamos los datos de los precios de cierre ajustados para el período 2018-01-01 a 2023-03-28\n",
    "data = yf.download(tickers, start='2018-01-01', end='2023-03-28')['Adj Close']"
   ]
  },
  {
   "cell_type": "markdown",
   "metadata": {},
   "source": [
    "Me olvidé de agregar el índice S&P500 (SPY)"
   ]
  },
  {
   "cell_type": "code",
   "execution_count": 9,
   "metadata": {},
   "outputs": [
    {
     "name": "stdout",
     "output_type": "stream",
     "text": [
      "[*********************100%***********************]  1 of 1 completed\n"
     ]
    }
   ],
   "source": [
    "# Descargamos los datos de precios de cierre ajustado para el índice en el mismo período\n",
    "indice = yf.download('SPY', start='2018-01-01', end='2023-03-28')['Adj Close']"
   ]
  },
  {
   "cell_type": "code",
   "execution_count": 10,
   "metadata": {},
   "outputs": [],
   "source": [
    "# Agregamos la columna del índice (SPY) al dataframe 'data'\n",
    "data['SPY'] = indice"
   ]
  },
  {
   "cell_type": "code",
   "execution_count": 15,
   "metadata": {},
   "outputs": [],
   "source": [
    "# Exportamos el dataframe a un archivo parquet\n",
    "data.to_parquet('data_sp500_mas_spy.parquet', index=True)"
   ]
  },
  {
   "cell_type": "code",
   "execution_count": 80,
   "metadata": {},
   "outputs": [],
   "source": [
    "# cargamos el dataframe del archivo parquet\n",
    "data = pd.read_parquet('data_sp500_mas_spy.parquet')"
   ]
  },
  {
   "cell_type": "code",
   "execution_count": 81,
   "metadata": {},
   "outputs": [],
   "source": [
    "# Quitamos las empresas (columnas) que no tienen información completa para los últimos 5 años\n",
    "data = data.dropna(axis=1)"
   ]
  },
  {
   "cell_type": "code",
   "execution_count": 82,
   "metadata": {},
   "outputs": [
    {
     "name": "stdout",
     "output_type": "stream",
     "text": [
      "<class 'pandas.core.frame.DataFrame'>\n",
      "DatetimeIndex: 1317 entries, 2018-01-02 to 2023-03-27\n",
      "Columns: 493 entries, A to SPY\n",
      "dtypes: float64(493)\n",
      "memory usage: 5.0 MB\n"
     ]
    }
   ],
   "source": [
    "# 11 empresas fueron removidas del dataframe\n",
    "data.info()"
   ]
  },
  {
   "cell_type": "code",
   "execution_count": 83,
   "metadata": {},
   "outputs": [],
   "source": [
    "# Actualizamos los tickers\n",
    "tickers = list(data.columns)"
   ]
  },
  {
   "cell_type": "code",
   "execution_count": 84,
   "metadata": {},
   "outputs": [],
   "source": [
    "# Calcular rendimiento diario de cada empresa y S&P 500 (daily return 'DR')\n",
    "data_DR = data.pct_change()"
   ]
  },
  {
   "cell_type": "code",
   "execution_count": 85,
   "metadata": {},
   "outputs": [],
   "source": [
    "# Quitamos la primera fila contiene puros Nan ya que no hay cambio porcentual para el primer dato. \n",
    "data_DR = data_DR.iloc[1:]"
   ]
  },
  {
   "cell_type": "code",
   "execution_count": 86,
   "metadata": {},
   "outputs": [],
   "source": [
    "avg_daily_returns = {}\n",
    "for ticker in tickers: \n",
    "    avg_daily_returns[ticker] = data_DR[ticker].mean()"
   ]
  },
  {
   "cell_type": "markdown",
   "metadata": {},
   "source": [
    "El cálculo a continuación, utiliza la media de los retornos diarios y la eleva a la potencia de 252 días (número de días hábiles en un año) y luego se resta 1. Esto da una estimación del retorno anualizado de la acción. "
   ]
  },
  {
   "cell_type": "code",
   "execution_count": 87,
   "metadata": {},
   "outputs": [],
   "source": [
    "# calcular el promedio del retorno anual para cada empresa\n",
    "avg_anual_returns = {}\n",
    "for ticker in tickers: \n",
    "    avg_anual_returns[ticker] = (1 + data_DR[ticker].mean())**252 - 1"
   ]
  },
  {
   "cell_type": "code",
   "execution_count": 88,
   "metadata": {},
   "outputs": [],
   "source": [
    "# Calcular el promedio de la volatilidad diaria de cada empresa y del índice sp500 (daily valtility 'DV')\n",
    "avg_daily_volatility = {}\n",
    "for ticker in tickers:\n",
    "    avg_daily_volatility[ticker] = data_DR[ticker].std()"
   ]
  },
  {
   "cell_type": "code",
   "execution_count": 89,
   "metadata": {},
   "outputs": [],
   "source": [
    "# Calcular la volatilidad anual promedio (AV)\n",
    "import numpy as np\n",
    "avg_anual_volatility = {}\n",
    "for ticker in tickers:\n",
    "    avg_anual_volatility[ticker] = avg_daily_volatility[ticker] * np.sqrt(252)"
   ]
  },
  {
   "cell_type": "markdown",
   "metadata": {},
   "source": [
    "El cálculo a continuación, utiliza el retorno anualizado de la acción y la desviación estándar de los retornos diarios de la acción para calcular el coeficiente de Sharpe. El coeficiente de Sharpe mide la relación entre el retorno y el riesgo ajustado al riesgo libre de riesgo (en este caso, se utiliza la tasa actual del tesoro de los estados unidos en los bonos a 10 años como el retorno libre de riesgo)."
   ]
  },
  {
   "cell_type": "code",
   "execution_count": 90,
   "metadata": {},
   "outputs": [],
   "source": [
    "# Calcular el coeficiente de Sharpe\n",
    "#sharpe_ratio = (average_anual_return - risk_free_rate) / anual_avg_volatility\n",
    "\n",
    "tasa_del_tesoro_10_años = .0353\n",
    "risk_free_rate = tasa_del_tesoro_10_años\n",
    "\n",
    "sharpe_ratio = {}\n",
    "for ticker in tickers:\n",
    "    sharpe_ratio[ticker] = (avg_anual_returns[ticker] - risk_free_rate) / avg_anual_volatility[ticker]"
   ]
  },
  {
   "cell_type": "markdown",
   "metadata": {},
   "source": [
    "el cálculo a continuación, utiliza el retorno anualizado de la acción, la correlación de los retornos diarios de la acción con los retornos diarios del S&P 500 y la beta de la acción con respecto al S&P 500 para calcular el índice de Treynor. El índice de Treynor mide la relación entre el retorno y el riesgo ajustado al riesgo sistemático (beta)"
   ]
  },
  {
   "cell_type": "code",
   "execution_count": 91,
   "metadata": {},
   "outputs": [],
   "source": [
    "# Coeficiente de Treynor\n",
    "\n",
    "# Calcular beta para cada empresa\n",
    "data_clean = data_DR.dropna()\n",
    "betas = {}\n",
    "\n",
    "for ticker in tickers:\n",
    "    covariance = np.cov(data_clean[ticker], data_clean['SPY'])\n",
    "    betas[ticker] = covariance[0, 1] / np.var(data_clean['SPY'])\n",
    "    \n",
    "# Calcular índice de Treynor para cada empresa\n",
    "tasa_del_tesoro_30_años = .0377\n",
    "risk_free_rate = tasa_del_tesoro_30_años\n",
    "\n",
    "trynor_ratio = {}\n",
    "for ticker in tickers:\n",
    "    trynor_ratio[ticker] = (avg_anual_returns[ticker] - risk_free_rate) / betas[ticker]\n",
    "   "
   ]
  },
  {
   "cell_type": "markdown",
   "metadata": {},
   "source": [
    "El cálculo a continuación, utiliza la media de los retornos diarios de la acción y la desviación estándar de los retornos diarios de la acción para calcular el coeficiente de información. El coeficiente de información mide la habilidad de un activo para superar su benchmark (su propio historial de retornos)."
   ]
  },
  {
   "cell_type": "code",
   "execution_count": 92,
   "metadata": {},
   "outputs": [],
   "source": [
    "# Calcular el information ratio (IR)\n",
    "information_ratio = {}\n",
    "for ticker in tickers:\n",
    "    information_ratio[ticker] = avg_anual_returns[ticker] / avg_anual_volatility[ticker]"
   ]
  },
  {
   "cell_type": "code",
   "execution_count": 96,
   "metadata": {},
   "outputs": [],
   "source": [
    "# Creamos dataframe con las medidas calculadas\n",
    "import pandas as pd\n",
    "\n",
    "# Crear DataFrame con los valores de cada diccionario\n",
    "df = pd.DataFrame({\n",
    "    'avg_daily_returns': avg_daily_returns,\n",
    "    'avg_anual_returns': avg_anual_returns,\n",
    "    'avg_daily_volatility': avg_daily_volatility,\n",
    "    'avg_anual_volatility': avg_anual_volatility,\n",
    "    'sharpe_ratio': sharpe_ratio,\n",
    "    'trynor_ratio': trynor_ratio,\n",
    "    'information_ratio': information_ratio,\n",
    "    'beta': betas\n",
    "})"
   ]
  },
  {
   "cell_type": "code",
   "execution_count": 97,
   "metadata": {},
   "outputs": [
    {
     "data": {
      "text/html": [
       "<div>\n",
       "<style scoped>\n",
       "    .dataframe tbody tr th:only-of-type {\n",
       "        vertical-align: middle;\n",
       "    }\n",
       "\n",
       "    .dataframe tbody tr th {\n",
       "        vertical-align: top;\n",
       "    }\n",
       "\n",
       "    .dataframe thead th {\n",
       "        text-align: right;\n",
       "    }\n",
       "</style>\n",
       "<table border=\"1\" class=\"dataframe\">\n",
       "  <thead>\n",
       "    <tr style=\"text-align: right;\">\n",
       "      <th></th>\n",
       "      <th>avg_daily_returns</th>\n",
       "      <th>avg_anual_returns</th>\n",
       "      <th>avg_daily_volatility</th>\n",
       "      <th>avg_anual_volatility</th>\n",
       "      <th>sharpe_ratio</th>\n",
       "      <th>trynor_ratio</th>\n",
       "      <th>information_ratio</th>\n",
       "      <th>beta</th>\n",
       "    </tr>\n",
       "  </thead>\n",
       "  <tbody>\n",
       "    <tr>\n",
       "      <th>A</th>\n",
       "      <td>0.000715</td>\n",
       "      <td>0.197357</td>\n",
       "      <td>0.018503</td>\n",
       "      <td>0.293731</td>\n",
       "      <td>0.551720</td>\n",
       "      <td>0.157320</td>\n",
       "      <td>0.671898</td>\n",
       "      <td>1.014853</td>\n",
       "    </tr>\n",
       "    <tr>\n",
       "      <th>AAL</th>\n",
       "      <td>-0.000274</td>\n",
       "      <td>-0.066645</td>\n",
       "      <td>0.038467</td>\n",
       "      <td>0.610653</td>\n",
       "      <td>-0.166945</td>\n",
       "      <td>-0.073586</td>\n",
       "      <td>-0.109138</td>\n",
       "      <td>1.418011</td>\n",
       "    </tr>\n",
       "    <tr>\n",
       "      <th>AAP</th>\n",
       "      <td>0.000341</td>\n",
       "      <td>0.089818</td>\n",
       "      <td>0.021532</td>\n",
       "      <td>0.341805</td>\n",
       "      <td>0.159500</td>\n",
       "      <td>0.058602</td>\n",
       "      <td>0.262775</td>\n",
       "      <td>0.889349</td>\n",
       "    </tr>\n",
       "    <tr>\n",
       "      <th>AAPL</th>\n",
       "      <td>0.001247</td>\n",
       "      <td>0.368981</td>\n",
       "      <td>0.020882</td>\n",
       "      <td>0.331492</td>\n",
       "      <td>1.006605</td>\n",
       "      <td>0.266041</td>\n",
       "      <td>1.113093</td>\n",
       "      <td>1.245226</td>\n",
       "    </tr>\n",
       "    <tr>\n",
       "      <th>ABBV</th>\n",
       "      <td>0.000702</td>\n",
       "      <td>0.193318</td>\n",
       "      <td>0.017807</td>\n",
       "      <td>0.282678</td>\n",
       "      <td>0.559004</td>\n",
       "      <td>0.228811</td>\n",
       "      <td>0.683881</td>\n",
       "      <td>0.680118</td>\n",
       "    </tr>\n",
       "    <tr>\n",
       "      <th>...</th>\n",
       "      <td>...</td>\n",
       "      <td>...</td>\n",
       "      <td>...</td>\n",
       "      <td>...</td>\n",
       "      <td>...</td>\n",
       "      <td>...</td>\n",
       "      <td>...</td>\n",
       "      <td>...</td>\n",
       "    </tr>\n",
       "    <tr>\n",
       "      <th>ZBH</th>\n",
       "      <td>0.000257</td>\n",
       "      <td>0.066815</td>\n",
       "      <td>0.019705</td>\n",
       "      <td>0.312805</td>\n",
       "      <td>0.100750</td>\n",
       "      <td>0.031448</td>\n",
       "      <td>0.213600</td>\n",
       "      <td>0.925822</td>\n",
       "    </tr>\n",
       "    <tr>\n",
       "      <th>ZBRA</th>\n",
       "      <td>0.001113</td>\n",
       "      <td>0.323659</td>\n",
       "      <td>0.025912</td>\n",
       "      <td>0.411347</td>\n",
       "      <td>0.701012</td>\n",
       "      <td>0.215796</td>\n",
       "      <td>0.786827</td>\n",
       "      <td>1.325137</td>\n",
       "    </tr>\n",
       "    <tr>\n",
       "      <th>ZION</th>\n",
       "      <td>0.000031</td>\n",
       "      <td>0.007717</td>\n",
       "      <td>0.025824</td>\n",
       "      <td>0.409947</td>\n",
       "      <td>-0.067283</td>\n",
       "      <td>-0.026870</td>\n",
       "      <td>0.018825</td>\n",
       "      <td>1.115830</td>\n",
       "    </tr>\n",
       "    <tr>\n",
       "      <th>ZTS</th>\n",
       "      <td>0.000818</td>\n",
       "      <td>0.228751</td>\n",
       "      <td>0.017666</td>\n",
       "      <td>0.280439</td>\n",
       "      <td>0.689815</td>\n",
       "      <td>0.199827</td>\n",
       "      <td>0.815689</td>\n",
       "      <td>0.956084</td>\n",
       "    </tr>\n",
       "    <tr>\n",
       "      <th>SPY</th>\n",
       "      <td>0.000454</td>\n",
       "      <td>0.121255</td>\n",
       "      <td>0.013457</td>\n",
       "      <td>0.213623</td>\n",
       "      <td>0.402367</td>\n",
       "      <td>0.083492</td>\n",
       "      <td>0.567611</td>\n",
       "      <td>1.000760</td>\n",
       "    </tr>\n",
       "  </tbody>\n",
       "</table>\n",
       "<p>493 rows × 8 columns</p>\n",
       "</div>"
      ],
      "text/plain": [
       "      avg_daily_returns  avg_anual_returns  avg_daily_volatility  \\\n",
       "A              0.000715           0.197357              0.018503   \n",
       "AAL           -0.000274          -0.066645              0.038467   \n",
       "AAP            0.000341           0.089818              0.021532   \n",
       "AAPL           0.001247           0.368981              0.020882   \n",
       "ABBV           0.000702           0.193318              0.017807   \n",
       "...                 ...                ...                   ...   \n",
       "ZBH            0.000257           0.066815              0.019705   \n",
       "ZBRA           0.001113           0.323659              0.025912   \n",
       "ZION           0.000031           0.007717              0.025824   \n",
       "ZTS            0.000818           0.228751              0.017666   \n",
       "SPY            0.000454           0.121255              0.013457   \n",
       "\n",
       "      avg_anual_volatility  sharpe_ratio  trynor_ratio  information_ratio  \\\n",
       "A                 0.293731      0.551720      0.157320           0.671898   \n",
       "AAL               0.610653     -0.166945     -0.073586          -0.109138   \n",
       "AAP               0.341805      0.159500      0.058602           0.262775   \n",
       "AAPL              0.331492      1.006605      0.266041           1.113093   \n",
       "ABBV              0.282678      0.559004      0.228811           0.683881   \n",
       "...                    ...           ...           ...                ...   \n",
       "ZBH               0.312805      0.100750      0.031448           0.213600   \n",
       "ZBRA              0.411347      0.701012      0.215796           0.786827   \n",
       "ZION              0.409947     -0.067283     -0.026870           0.018825   \n",
       "ZTS               0.280439      0.689815      0.199827           0.815689   \n",
       "SPY               0.213623      0.402367      0.083492           0.567611   \n",
       "\n",
       "          beta  \n",
       "A     1.014853  \n",
       "AAL   1.418011  \n",
       "AAP   0.889349  \n",
       "AAPL  1.245226  \n",
       "ABBV  0.680118  \n",
       "...        ...  \n",
       "ZBH   0.925822  \n",
       "ZBRA  1.325137  \n",
       "ZION  1.115830  \n",
       "ZTS   0.956084  \n",
       "SPY   1.000760  \n",
       "\n",
       "[493 rows x 8 columns]"
      ]
     },
     "execution_count": 97,
     "metadata": {},
     "output_type": "execute_result"
    }
   ],
   "source": [
    "df"
   ]
  },
  {
   "cell_type": "markdown",
   "metadata": {},
   "source": [
    "Vamos a obtener el volumen diario de cada acción y su capitalización de mercado para completar el análisis"
   ]
  },
  {
   "cell_type": "code",
   "execution_count": 66,
   "metadata": {},
   "outputs": [
    {
     "name": "stdout",
     "output_type": "stream",
     "text": [
      "[*********************100%***********************]  493 of 493 completed\n"
     ]
    }
   ],
   "source": [
    "start_date = \"2018-01-01\"\n",
    "end_date = \"2023-03-28\"\n",
    "data = yf.download(tickers, start=start_date, end=end_date)['Volume']"
   ]
  },
  {
   "cell_type": "code",
   "execution_count": 67,
   "metadata": {},
   "outputs": [],
   "source": [
    "# Calcular el volumen diario para cada empresa en los últimos 5 años\n",
    "daily_volume = {}\n",
    "for empresa in tickers: \n",
    "    daily_volume[empresa] = data[empresa].rolling(window=30).mean().iloc[-1]"
   ]
  },
  {
   "cell_type": "code",
   "execution_count": 68,
   "metadata": {},
   "outputs": [],
   "source": [
    "# Obtener la capitalización de mercado actual de cada empresa\n",
    "market_cap = {}\n",
    "for ticker in tickers:\n",
    "    info = yf.Ticker(ticker).info\n",
    "    market_cap[ticker] = info[\"marketCap\"]"
   ]
  },
  {
   "cell_type": "code",
   "execution_count": 69,
   "metadata": {},
   "outputs": [
    {
     "data": {
      "text/html": [
       "<div>\n",
       "<style scoped>\n",
       "    .dataframe tbody tr th:only-of-type {\n",
       "        vertical-align: middle;\n",
       "    }\n",
       "\n",
       "    .dataframe tbody tr th {\n",
       "        vertical-align: top;\n",
       "    }\n",
       "\n",
       "    .dataframe thead th {\n",
       "        text-align: right;\n",
       "    }\n",
       "</style>\n",
       "<table border=\"1\" class=\"dataframe\">\n",
       "  <thead>\n",
       "    <tr style=\"text-align: right;\">\n",
       "      <th></th>\n",
       "      <th>daily_volume</th>\n",
       "      <th>market_cap</th>\n",
       "    </tr>\n",
       "  </thead>\n",
       "  <tbody>\n",
       "    <tr>\n",
       "      <th>A</th>\n",
       "      <td>1.570100e+06</td>\n",
       "      <td>39218958336</td>\n",
       "    </tr>\n",
       "    <tr>\n",
       "      <th>AAL</th>\n",
       "      <td>2.092056e+07</td>\n",
       "      <td>9107004416</td>\n",
       "    </tr>\n",
       "    <tr>\n",
       "      <th>AAP</th>\n",
       "      <td>1.790403e+06</td>\n",
       "      <td>6860349440</td>\n",
       "    </tr>\n",
       "    <tr>\n",
       "      <th>AAPL</th>\n",
       "      <td>6.435345e+07</td>\n",
       "      <td>2494322442240</td>\n",
       "    </tr>\n",
       "    <tr>\n",
       "      <th>ABBV</th>\n",
       "      <td>6.754833e+06</td>\n",
       "      <td>279175168000</td>\n",
       "    </tr>\n",
       "    <tr>\n",
       "      <th>...</th>\n",
       "      <td>...</td>\n",
       "      <td>...</td>\n",
       "    </tr>\n",
       "    <tr>\n",
       "      <th>ZBH</th>\n",
       "      <td>1.190957e+06</td>\n",
       "      <td>26497472512</td>\n",
       "    </tr>\n",
       "    <tr>\n",
       "      <th>ZBRA</th>\n",
       "      <td>3.189400e+05</td>\n",
       "      <td>14915073024</td>\n",
       "    </tr>\n",
       "    <tr>\n",
       "      <th>ZION</th>\n",
       "      <td>5.591747e+06</td>\n",
       "      <td>4435565568</td>\n",
       "    </tr>\n",
       "    <tr>\n",
       "      <th>ZTS</th>\n",
       "      <td>2.076887e+06</td>\n",
       "      <td>76477390848</td>\n",
       "    </tr>\n",
       "    <tr>\n",
       "      <th>SPY</th>\n",
       "      <td>1.040418e+08</td>\n",
       "      <td>363074584576</td>\n",
       "    </tr>\n",
       "  </tbody>\n",
       "</table>\n",
       "<p>493 rows × 2 columns</p>\n",
       "</div>"
      ],
      "text/plain": [
       "      daily_volume     market_cap\n",
       "A     1.570100e+06    39218958336\n",
       "AAL   2.092056e+07     9107004416\n",
       "AAP   1.790403e+06     6860349440\n",
       "AAPL  6.435345e+07  2494322442240\n",
       "ABBV  6.754833e+06   279175168000\n",
       "...            ...            ...\n",
       "ZBH   1.190957e+06    26497472512\n",
       "ZBRA  3.189400e+05    14915073024\n",
       "ZION  5.591747e+06     4435565568\n",
       "ZTS   2.076887e+06    76477390848\n",
       "SPY   1.040418e+08   363074584576\n",
       "\n",
       "[493 rows x 2 columns]"
      ]
     },
     "execution_count": 69,
     "metadata": {},
     "output_type": "execute_result"
    }
   ],
   "source": [
    "import pandas as pd\n",
    "\n",
    "# Combinar los datos en un solo dataframe\n",
    "df1 = pd.DataFrame({\n",
    "    \"daily_volume\": daily_volume,\n",
    "    \"market_cap\": market_cap\n",
    "})\n",
    "\n",
    "# Visualizar el dataframe\n",
    "df1"
   ]
  },
  {
   "cell_type": "code",
   "execution_count": 98,
   "metadata": {},
   "outputs": [
    {
     "data": {
      "text/html": [
       "<div>\n",
       "<style scoped>\n",
       "    .dataframe tbody tr th:only-of-type {\n",
       "        vertical-align: middle;\n",
       "    }\n",
       "\n",
       "    .dataframe tbody tr th {\n",
       "        vertical-align: top;\n",
       "    }\n",
       "\n",
       "    .dataframe thead th {\n",
       "        text-align: right;\n",
       "    }\n",
       "</style>\n",
       "<table border=\"1\" class=\"dataframe\">\n",
       "  <thead>\n",
       "    <tr style=\"text-align: right;\">\n",
       "      <th></th>\n",
       "      <th>daily_volume</th>\n",
       "      <th>market_cap</th>\n",
       "      <th>avg_daily_returns</th>\n",
       "      <th>avg_anual_returns</th>\n",
       "      <th>avg_daily_volatility</th>\n",
       "      <th>avg_anual_volatility</th>\n",
       "      <th>sharpe_ratio</th>\n",
       "      <th>trynor_ratio</th>\n",
       "      <th>information_ratio</th>\n",
       "      <th>beta</th>\n",
       "    </tr>\n",
       "  </thead>\n",
       "  <tbody>\n",
       "    <tr>\n",
       "      <th>A</th>\n",
       "      <td>1.570100e+06</td>\n",
       "      <td>39218958336</td>\n",
       "      <td>0.000715</td>\n",
       "      <td>0.197357</td>\n",
       "      <td>0.018503</td>\n",
       "      <td>0.293731</td>\n",
       "      <td>0.551720</td>\n",
       "      <td>0.157320</td>\n",
       "      <td>0.671898</td>\n",
       "      <td>1.014853</td>\n",
       "    </tr>\n",
       "    <tr>\n",
       "      <th>AAL</th>\n",
       "      <td>2.092056e+07</td>\n",
       "      <td>9107004416</td>\n",
       "      <td>-0.000274</td>\n",
       "      <td>-0.066645</td>\n",
       "      <td>0.038467</td>\n",
       "      <td>0.610653</td>\n",
       "      <td>-0.166945</td>\n",
       "      <td>-0.073586</td>\n",
       "      <td>-0.109138</td>\n",
       "      <td>1.418011</td>\n",
       "    </tr>\n",
       "    <tr>\n",
       "      <th>AAP</th>\n",
       "      <td>1.790403e+06</td>\n",
       "      <td>6860349440</td>\n",
       "      <td>0.000341</td>\n",
       "      <td>0.089818</td>\n",
       "      <td>0.021532</td>\n",
       "      <td>0.341805</td>\n",
       "      <td>0.159500</td>\n",
       "      <td>0.058602</td>\n",
       "      <td>0.262775</td>\n",
       "      <td>0.889349</td>\n",
       "    </tr>\n",
       "    <tr>\n",
       "      <th>AAPL</th>\n",
       "      <td>6.435345e+07</td>\n",
       "      <td>2494322442240</td>\n",
       "      <td>0.001247</td>\n",
       "      <td>0.368981</td>\n",
       "      <td>0.020882</td>\n",
       "      <td>0.331492</td>\n",
       "      <td>1.006605</td>\n",
       "      <td>0.266041</td>\n",
       "      <td>1.113093</td>\n",
       "      <td>1.245226</td>\n",
       "    </tr>\n",
       "    <tr>\n",
       "      <th>ABBV</th>\n",
       "      <td>6.754833e+06</td>\n",
       "      <td>279175168000</td>\n",
       "      <td>0.000702</td>\n",
       "      <td>0.193318</td>\n",
       "      <td>0.017807</td>\n",
       "      <td>0.282678</td>\n",
       "      <td>0.559004</td>\n",
       "      <td>0.228811</td>\n",
       "      <td>0.683881</td>\n",
       "      <td>0.680118</td>\n",
       "    </tr>\n",
       "    <tr>\n",
       "      <th>...</th>\n",
       "      <td>...</td>\n",
       "      <td>...</td>\n",
       "      <td>...</td>\n",
       "      <td>...</td>\n",
       "      <td>...</td>\n",
       "      <td>...</td>\n",
       "      <td>...</td>\n",
       "      <td>...</td>\n",
       "      <td>...</td>\n",
       "      <td>...</td>\n",
       "    </tr>\n",
       "    <tr>\n",
       "      <th>ZBH</th>\n",
       "      <td>1.190957e+06</td>\n",
       "      <td>26497472512</td>\n",
       "      <td>0.000257</td>\n",
       "      <td>0.066815</td>\n",
       "      <td>0.019705</td>\n",
       "      <td>0.312805</td>\n",
       "      <td>0.100750</td>\n",
       "      <td>0.031448</td>\n",
       "      <td>0.213600</td>\n",
       "      <td>0.925822</td>\n",
       "    </tr>\n",
       "    <tr>\n",
       "      <th>ZBRA</th>\n",
       "      <td>3.189400e+05</td>\n",
       "      <td>14915073024</td>\n",
       "      <td>0.001113</td>\n",
       "      <td>0.323659</td>\n",
       "      <td>0.025912</td>\n",
       "      <td>0.411347</td>\n",
       "      <td>0.701012</td>\n",
       "      <td>0.215796</td>\n",
       "      <td>0.786827</td>\n",
       "      <td>1.325137</td>\n",
       "    </tr>\n",
       "    <tr>\n",
       "      <th>ZION</th>\n",
       "      <td>5.591747e+06</td>\n",
       "      <td>4435565568</td>\n",
       "      <td>0.000031</td>\n",
       "      <td>0.007717</td>\n",
       "      <td>0.025824</td>\n",
       "      <td>0.409947</td>\n",
       "      <td>-0.067283</td>\n",
       "      <td>-0.026870</td>\n",
       "      <td>0.018825</td>\n",
       "      <td>1.115830</td>\n",
       "    </tr>\n",
       "    <tr>\n",
       "      <th>ZTS</th>\n",
       "      <td>2.076887e+06</td>\n",
       "      <td>76477390848</td>\n",
       "      <td>0.000818</td>\n",
       "      <td>0.228751</td>\n",
       "      <td>0.017666</td>\n",
       "      <td>0.280439</td>\n",
       "      <td>0.689815</td>\n",
       "      <td>0.199827</td>\n",
       "      <td>0.815689</td>\n",
       "      <td>0.956084</td>\n",
       "    </tr>\n",
       "    <tr>\n",
       "      <th>SPY</th>\n",
       "      <td>1.040418e+08</td>\n",
       "      <td>363074584576</td>\n",
       "      <td>0.000454</td>\n",
       "      <td>0.121255</td>\n",
       "      <td>0.013457</td>\n",
       "      <td>0.213623</td>\n",
       "      <td>0.402367</td>\n",
       "      <td>0.083492</td>\n",
       "      <td>0.567611</td>\n",
       "      <td>1.000760</td>\n",
       "    </tr>\n",
       "  </tbody>\n",
       "</table>\n",
       "<p>493 rows × 10 columns</p>\n",
       "</div>"
      ],
      "text/plain": [
       "      daily_volume     market_cap  avg_daily_returns  avg_anual_returns  \\\n",
       "A     1.570100e+06    39218958336           0.000715           0.197357   \n",
       "AAL   2.092056e+07     9107004416          -0.000274          -0.066645   \n",
       "AAP   1.790403e+06     6860349440           0.000341           0.089818   \n",
       "AAPL  6.435345e+07  2494322442240           0.001247           0.368981   \n",
       "ABBV  6.754833e+06   279175168000           0.000702           0.193318   \n",
       "...            ...            ...                ...                ...   \n",
       "ZBH   1.190957e+06    26497472512           0.000257           0.066815   \n",
       "ZBRA  3.189400e+05    14915073024           0.001113           0.323659   \n",
       "ZION  5.591747e+06     4435565568           0.000031           0.007717   \n",
       "ZTS   2.076887e+06    76477390848           0.000818           0.228751   \n",
       "SPY   1.040418e+08   363074584576           0.000454           0.121255   \n",
       "\n",
       "      avg_daily_volatility  avg_anual_volatility  sharpe_ratio  trynor_ratio  \\\n",
       "A                 0.018503              0.293731      0.551720      0.157320   \n",
       "AAL               0.038467              0.610653     -0.166945     -0.073586   \n",
       "AAP               0.021532              0.341805      0.159500      0.058602   \n",
       "AAPL              0.020882              0.331492      1.006605      0.266041   \n",
       "ABBV              0.017807              0.282678      0.559004      0.228811   \n",
       "...                    ...                   ...           ...           ...   \n",
       "ZBH               0.019705              0.312805      0.100750      0.031448   \n",
       "ZBRA              0.025912              0.411347      0.701012      0.215796   \n",
       "ZION              0.025824              0.409947     -0.067283     -0.026870   \n",
       "ZTS               0.017666              0.280439      0.689815      0.199827   \n",
       "SPY               0.013457              0.213623      0.402367      0.083492   \n",
       "\n",
       "      information_ratio      beta  \n",
       "A              0.671898  1.014853  \n",
       "AAL           -0.109138  1.418011  \n",
       "AAP            0.262775  0.889349  \n",
       "AAPL           1.113093  1.245226  \n",
       "ABBV           0.683881  0.680118  \n",
       "...                 ...       ...  \n",
       "ZBH            0.213600  0.925822  \n",
       "ZBRA           0.786827  1.325137  \n",
       "ZION           0.018825  1.115830  \n",
       "ZTS            0.815689  0.956084  \n",
       "SPY            0.567611  1.000760  \n",
       "\n",
       "[493 rows x 10 columns]"
      ]
     },
     "execution_count": 98,
     "metadata": {},
     "output_type": "execute_result"
    }
   ],
   "source": [
    "# Concatenamos los dataframes\n",
    "df_metrics = pd.concat([df1, df], axis=1)\n",
    "df_metrics "
   ]
  },
  {
   "cell_type": "code",
   "execution_count": 99,
   "metadata": {},
   "outputs": [],
   "source": [
    "df_metrics.to_parquet('df_metrics_all.parquet')"
   ]
  }
 ],
 "metadata": {
  "kernelspec": {
   "display_name": "Python 3.11.1 ('sp500_venv')",
   "language": "python",
   "name": "python3"
  },
  "language_info": {
   "codemirror_mode": {
    "name": "ipython",
    "version": 3
   },
   "file_extension": ".py",
   "mimetype": "text/x-python",
   "name": "python",
   "nbconvert_exporter": "python",
   "pygments_lexer": "ipython3",
   "version": "3.11.1"
  },
  "orig_nbformat": 4,
  "vscode": {
   "interpreter": {
    "hash": "52f9fc8391b9e9f34c4976290c76777fccc14e956a082f71554f7ef17ef1c43b"
   }
  }
 },
 "nbformat": 4,
 "nbformat_minor": 2
}
