{
 "cells": [
  {
   "cell_type": "markdown",
   "metadata": {},
   "source": [
    "Después de haber analizado la información teórica que compilamos en el archivo 'justificacion.md' nos hemos decidido por el siguiente plan de acción: \n",
    "\n",
    "Vamos a enfocarnos en analizar un número limitado de empresas (5) para poder realizar un análisis más detallado y obtener resultados más precisos. Estas empresas deberán de ser de las más grandes y con mayor capitalización de mercado para tener una idea más general del mercado. \n",
    "\n",
    "Nustro objetivo general será:\n",
    "Determinar si conviene invertir en el S&P 500 como Índice o invertir en empresas individuales. \n",
    "\n",
    "Para ello vamos a comparar la rentabilidad y el riesgo de la inversión en el S&P 500 con las empresas individuales. Esto permitirá identificar cuál de las dos opciones es la más conveniente."
   ]
  },
  {
   "cell_type": "markdown",
   "metadata": {},
   "source": [
    "Trás realizar una búsqueda en GOOGLE con la especificación \"top 5 companies with the biggest market cap in the S&P 500\" obtenemos los siguiente: \n",
    "\n",
    "As of March 20, 2023, the following are the 25 largest S&P 500 index constituents by weight:\n",
    "Apple (AAPL): 7.09%\n",
    "Microsoft (MSFT): 6.13%\n",
    "Amazon (AMZN): 2.64%\n",
    "NVIDIA (NVDA): 1.93%\n",
    "Alphabet Class A (GOOGL): 1.82%"
   ]
  },
  {
   "cell_type": "markdown",
   "metadata": {},
   "source": [
    "Obtener datos históricos de precios de cierre para las cinco empresas seleccionadas y para el S&P 500 utilizando la librería yfinance en Python. "
   ]
  },
  {
   "cell_type": "code",
   "execution_count": 2,
   "metadata": {},
   "outputs": [
    {
     "name": "stdout",
     "output_type": "stream",
     "text": [
      "[*********************100%***********************]  5 of 5 completed\n"
     ]
    }
   ],
   "source": [
    "import yfinance as yf\n",
    "\n",
    "# Definimos una lista con los tickers de las empresas que queremos analizar\n",
    "tickers = ['AAPL', 'MSFT', 'AMZN', 'NVDA', 'GOOGL']\n",
    "\n",
    "# Descargamos los datos de los precios de cierre ajustados para los últimos 23 años\n",
    "data = yf.download(tickers, start='2000-01-01', end='2023-03-25')['Adj Close']"
   ]
  },
  {
   "cell_type": "markdown",
   "metadata": {},
   "source": [
    "Con este código, hemos descargado los precios de cierre ajustados de las cinco empresas seleccionadas en el rango de fechas especificado. Podemos entonces calcular los rendimientos diarios de los precios de cierre utilizando los precios de cierre de un día y el día anterior:"
   ]
  },
  {
   "cell_type": "code",
   "execution_count": 3,
   "metadata": {},
   "outputs": [
    {
     "name": "stdout",
     "output_type": "stream",
     "text": [
      "[*********************100%***********************]  1 of 1 completed\n"
     ]
    }
   ],
   "source": [
    "# Calculamos los rendimientos diarios de las empresas y del S&P 500\n",
    "returns = data.pct_change().dropna()\n",
    "sp500 = yf.download('^GSPC', start='2000-01-01', end='2023-03-25')['Adj Close'].pct_change().dropna()"
   ]
  },
  {
   "cell_type": "markdown",
   "metadata": {},
   "source": [
    "Con esto, hemos calculado los rendimientos diarios de las cinco empresas seleccionadas y del S&P 500, que serán la base para nuestro análisis comparativo de rentabilidad y riesgo. Podemos ahora generar algunas estadísticas básicas de rendimiento y riesgo para cada empresa y para el S&P 500, como la media y la desviación estándar de los rendimientos diarios:"
   ]
  },
  {
   "cell_type": "code",
   "execution_count": 4,
   "metadata": {},
   "outputs": [],
   "source": [
    "# Calculamos estadísticas de rendimiento y riesgo para las empresas y el S&P 500\n",
    "mean_returns = returns.mean()\n",
    "std_returns = returns.std()\n",
    "\n",
    "mean_sp500 = sp500.mean()\n",
    "std_sp500 = sp500.std()"
   ]
  },
  {
   "cell_type": "markdown",
   "metadata": {},
   "source": [
    "Podemos usar estas estadísticas para crear un gráfico de dispersión que nos permita comparar los rendimientos y el riesgo de cada empresa en relación con el S&P 500:"
   ]
  },
  {
   "cell_type": "code",
   "execution_count": 5,
   "metadata": {},
   "outputs": [
    {
     "data": {
      "application/vnd.plotly.v1+json": {
       "config": {
        "plotlyServerURL": "https://plot.ly"
       },
       "data": [
        {
         "hovertemplate": "Empresa=AAPL<br>Volatilidad diaria=%{x}<br>Rendimiento medio diario=%{y}<extra></extra>",
         "legendgroup": "AAPL",
         "marker": {
          "color": "#636efa",
          "symbol": "circle"
         },
         "mode": "markers",
         "name": "AAPL",
         "orientation": "v",
         "showlegend": true,
         "type": "scatter",
         "x": [
          0.020944934000963693
         ],
         "xaxis": "x",
         "y": [
          0.0014673021513911906
         ],
         "yaxis": "y"
        },
        {
         "hovertemplate": "Empresa=MSFT<br>Volatilidad diaria=%{x}<br>Rendimiento medio diario=%{y}<extra></extra>",
         "legendgroup": "MSFT",
         "marker": {
          "color": "#EF553B",
          "symbol": "circle"
         },
         "mode": "markers",
         "name": "MSFT",
         "orientation": "v",
         "showlegend": true,
         "type": "scatter",
         "x": [
          0.024361620163084036
         ],
         "xaxis": "x",
         "y": [
          0.0011330431865679451
         ],
         "yaxis": "y"
        },
        {
         "hovertemplate": "Empresa=AMZN<br>Volatilidad diaria=%{x}<br>Rendimiento medio diario=%{y}<extra></extra>",
         "legendgroup": "AMZN",
         "marker": {
          "color": "#00cc96",
          "symbol": "circle"
         },
         "mode": "markers",
         "name": "AMZN",
         "orientation": "v",
         "showlegend": true,
         "type": "scatter",
         "x": [
          0.01943710704259903
         ],
         "xaxis": "x",
         "y": [
          0.0009861997968773333
         ],
         "yaxis": "y"
        },
        {
         "hovertemplate": "Empresa=NVDA<br>Volatilidad diaria=%{x}<br>Rendimiento medio diario=%{y}<extra></extra>",
         "legendgroup": "NVDA",
         "marker": {
          "color": "#ab63fa",
          "symbol": "circle"
         },
         "mode": "markers",
         "name": "NVDA",
         "orientation": "v",
         "showlegend": true,
         "type": "scatter",
         "x": [
          0.017269463973085
         ],
         "xaxis": "x",
         "y": [
          0.0007470496148921648
         ],
         "yaxis": "y"
        },
        {
         "hovertemplate": "Empresa=GOOGL<br>Volatilidad diaria=%{x}<br>Rendimiento medio diario=%{y}<extra></extra>",
         "legendgroup": "GOOGL",
         "marker": {
          "color": "#FFA15A",
          "symbol": "circle"
         },
         "mode": "markers",
         "name": "GOOGL",
         "orientation": "v",
         "showlegend": true,
         "type": "scatter",
         "x": [
          0.03058179195230621
         ],
         "xaxis": "x",
         "y": [
          0.0016874657382213104
         ],
         "yaxis": "y"
        },
        {
         "hovertemplate": "Empresa=S&P 500<br>Volatilidad diaria=%{x}<br>Rendimiento medio diario=%{y}<extra></extra>",
         "legendgroup": "S&P 500",
         "marker": {
          "color": "#19d3f3",
          "symbol": "circle"
         },
         "mode": "markers",
         "name": "S&P 500",
         "orientation": "v",
         "showlegend": true,
         "type": "scatter",
         "x": [
          0.012490271546230627
         ],
         "xaxis": "x",
         "y": [
          0.0002499646430619431
         ],
         "yaxis": "y"
        }
       ],
       "layout": {
        "annotations": [
         {
          "font": {
           "size": 14
          },
          "showarrow": false,
          "text": "S&P 500",
          "x": 0.1982769139139546,
          "y": 0.0002499646430619431
         }
        ],
        "legend": {
         "title": {
          "text": "Empresa"
         },
         "tracegroupgap": 0
        },
        "margin": {
         "t": 60
        },
        "shapes": [
         {
          "line": {
           "color": "black",
           "dash": "dash"
          },
          "type": "line",
          "x0": 0,
          "x1": 0.1982769139139546,
          "y0": 0.0002499646430619431,
          "y1": 0.0002499646430619431
         }
        ],
        "template": {
         "data": {
          "bar": [
           {
            "error_x": {
             "color": "#2a3f5f"
            },
            "error_y": {
             "color": "#2a3f5f"
            },
            "marker": {
             "line": {
              "color": "#E5ECF6",
              "width": 0.5
             },
             "pattern": {
              "fillmode": "overlay",
              "size": 10,
              "solidity": 0.2
             }
            },
            "type": "bar"
           }
          ],
          "barpolar": [
           {
            "marker": {
             "line": {
              "color": "#E5ECF6",
              "width": 0.5
             },
             "pattern": {
              "fillmode": "overlay",
              "size": 10,
              "solidity": 0.2
             }
            },
            "type": "barpolar"
           }
          ],
          "carpet": [
           {
            "aaxis": {
             "endlinecolor": "#2a3f5f",
             "gridcolor": "white",
             "linecolor": "white",
             "minorgridcolor": "white",
             "startlinecolor": "#2a3f5f"
            },
            "baxis": {
             "endlinecolor": "#2a3f5f",
             "gridcolor": "white",
             "linecolor": "white",
             "minorgridcolor": "white",
             "startlinecolor": "#2a3f5f"
            },
            "type": "carpet"
           }
          ],
          "choropleth": [
           {
            "colorbar": {
             "outlinewidth": 0,
             "ticks": ""
            },
            "type": "choropleth"
           }
          ],
          "contour": [
           {
            "colorbar": {
             "outlinewidth": 0,
             "ticks": ""
            },
            "colorscale": [
             [
              0,
              "#0d0887"
             ],
             [
              0.1111111111111111,
              "#46039f"
             ],
             [
              0.2222222222222222,
              "#7201a8"
             ],
             [
              0.3333333333333333,
              "#9c179e"
             ],
             [
              0.4444444444444444,
              "#bd3786"
             ],
             [
              0.5555555555555556,
              "#d8576b"
             ],
             [
              0.6666666666666666,
              "#ed7953"
             ],
             [
              0.7777777777777778,
              "#fb9f3a"
             ],
             [
              0.8888888888888888,
              "#fdca26"
             ],
             [
              1,
              "#f0f921"
             ]
            ],
            "type": "contour"
           }
          ],
          "contourcarpet": [
           {
            "colorbar": {
             "outlinewidth": 0,
             "ticks": ""
            },
            "type": "contourcarpet"
           }
          ],
          "heatmap": [
           {
            "colorbar": {
             "outlinewidth": 0,
             "ticks": ""
            },
            "colorscale": [
             [
              0,
              "#0d0887"
             ],
             [
              0.1111111111111111,
              "#46039f"
             ],
             [
              0.2222222222222222,
              "#7201a8"
             ],
             [
              0.3333333333333333,
              "#9c179e"
             ],
             [
              0.4444444444444444,
              "#bd3786"
             ],
             [
              0.5555555555555556,
              "#d8576b"
             ],
             [
              0.6666666666666666,
              "#ed7953"
             ],
             [
              0.7777777777777778,
              "#fb9f3a"
             ],
             [
              0.8888888888888888,
              "#fdca26"
             ],
             [
              1,
              "#f0f921"
             ]
            ],
            "type": "heatmap"
           }
          ],
          "heatmapgl": [
           {
            "colorbar": {
             "outlinewidth": 0,
             "ticks": ""
            },
            "colorscale": [
             [
              0,
              "#0d0887"
             ],
             [
              0.1111111111111111,
              "#46039f"
             ],
             [
              0.2222222222222222,
              "#7201a8"
             ],
             [
              0.3333333333333333,
              "#9c179e"
             ],
             [
              0.4444444444444444,
              "#bd3786"
             ],
             [
              0.5555555555555556,
              "#d8576b"
             ],
             [
              0.6666666666666666,
              "#ed7953"
             ],
             [
              0.7777777777777778,
              "#fb9f3a"
             ],
             [
              0.8888888888888888,
              "#fdca26"
             ],
             [
              1,
              "#f0f921"
             ]
            ],
            "type": "heatmapgl"
           }
          ],
          "histogram": [
           {
            "marker": {
             "pattern": {
              "fillmode": "overlay",
              "size": 10,
              "solidity": 0.2
             }
            },
            "type": "histogram"
           }
          ],
          "histogram2d": [
           {
            "colorbar": {
             "outlinewidth": 0,
             "ticks": ""
            },
            "colorscale": [
             [
              0,
              "#0d0887"
             ],
             [
              0.1111111111111111,
              "#46039f"
             ],
             [
              0.2222222222222222,
              "#7201a8"
             ],
             [
              0.3333333333333333,
              "#9c179e"
             ],
             [
              0.4444444444444444,
              "#bd3786"
             ],
             [
              0.5555555555555556,
              "#d8576b"
             ],
             [
              0.6666666666666666,
              "#ed7953"
             ],
             [
              0.7777777777777778,
              "#fb9f3a"
             ],
             [
              0.8888888888888888,
              "#fdca26"
             ],
             [
              1,
              "#f0f921"
             ]
            ],
            "type": "histogram2d"
           }
          ],
          "histogram2dcontour": [
           {
            "colorbar": {
             "outlinewidth": 0,
             "ticks": ""
            },
            "colorscale": [
             [
              0,
              "#0d0887"
             ],
             [
              0.1111111111111111,
              "#46039f"
             ],
             [
              0.2222222222222222,
              "#7201a8"
             ],
             [
              0.3333333333333333,
              "#9c179e"
             ],
             [
              0.4444444444444444,
              "#bd3786"
             ],
             [
              0.5555555555555556,
              "#d8576b"
             ],
             [
              0.6666666666666666,
              "#ed7953"
             ],
             [
              0.7777777777777778,
              "#fb9f3a"
             ],
             [
              0.8888888888888888,
              "#fdca26"
             ],
             [
              1,
              "#f0f921"
             ]
            ],
            "type": "histogram2dcontour"
           }
          ],
          "mesh3d": [
           {
            "colorbar": {
             "outlinewidth": 0,
             "ticks": ""
            },
            "type": "mesh3d"
           }
          ],
          "parcoords": [
           {
            "line": {
             "colorbar": {
              "outlinewidth": 0,
              "ticks": ""
             }
            },
            "type": "parcoords"
           }
          ],
          "pie": [
           {
            "automargin": true,
            "type": "pie"
           }
          ],
          "scatter": [
           {
            "fillpattern": {
             "fillmode": "overlay",
             "size": 10,
             "solidity": 0.2
            },
            "type": "scatter"
           }
          ],
          "scatter3d": [
           {
            "line": {
             "colorbar": {
              "outlinewidth": 0,
              "ticks": ""
             }
            },
            "marker": {
             "colorbar": {
              "outlinewidth": 0,
              "ticks": ""
             }
            },
            "type": "scatter3d"
           }
          ],
          "scattercarpet": [
           {
            "marker": {
             "colorbar": {
              "outlinewidth": 0,
              "ticks": ""
             }
            },
            "type": "scattercarpet"
           }
          ],
          "scattergeo": [
           {
            "marker": {
             "colorbar": {
              "outlinewidth": 0,
              "ticks": ""
             }
            },
            "type": "scattergeo"
           }
          ],
          "scattergl": [
           {
            "marker": {
             "colorbar": {
              "outlinewidth": 0,
              "ticks": ""
             }
            },
            "type": "scattergl"
           }
          ],
          "scattermapbox": [
           {
            "marker": {
             "colorbar": {
              "outlinewidth": 0,
              "ticks": ""
             }
            },
            "type": "scattermapbox"
           }
          ],
          "scatterpolar": [
           {
            "marker": {
             "colorbar": {
              "outlinewidth": 0,
              "ticks": ""
             }
            },
            "type": "scatterpolar"
           }
          ],
          "scatterpolargl": [
           {
            "marker": {
             "colorbar": {
              "outlinewidth": 0,
              "ticks": ""
             }
            },
            "type": "scatterpolargl"
           }
          ],
          "scatterternary": [
           {
            "marker": {
             "colorbar": {
              "outlinewidth": 0,
              "ticks": ""
             }
            },
            "type": "scatterternary"
           }
          ],
          "surface": [
           {
            "colorbar": {
             "outlinewidth": 0,
             "ticks": ""
            },
            "colorscale": [
             [
              0,
              "#0d0887"
             ],
             [
              0.1111111111111111,
              "#46039f"
             ],
             [
              0.2222222222222222,
              "#7201a8"
             ],
             [
              0.3333333333333333,
              "#9c179e"
             ],
             [
              0.4444444444444444,
              "#bd3786"
             ],
             [
              0.5555555555555556,
              "#d8576b"
             ],
             [
              0.6666666666666666,
              "#ed7953"
             ],
             [
              0.7777777777777778,
              "#fb9f3a"
             ],
             [
              0.8888888888888888,
              "#fdca26"
             ],
             [
              1,
              "#f0f921"
             ]
            ],
            "type": "surface"
           }
          ],
          "table": [
           {
            "cells": {
             "fill": {
              "color": "#EBF0F8"
             },
             "line": {
              "color": "white"
             }
            },
            "header": {
             "fill": {
              "color": "#C8D4E3"
             },
             "line": {
              "color": "white"
             }
            },
            "type": "table"
           }
          ]
         },
         "layout": {
          "annotationdefaults": {
           "arrowcolor": "#2a3f5f",
           "arrowhead": 0,
           "arrowwidth": 1
          },
          "autotypenumbers": "strict",
          "coloraxis": {
           "colorbar": {
            "outlinewidth": 0,
            "ticks": ""
           }
          },
          "colorscale": {
           "diverging": [
            [
             0,
             "#8e0152"
            ],
            [
             0.1,
             "#c51b7d"
            ],
            [
             0.2,
             "#de77ae"
            ],
            [
             0.3,
             "#f1b6da"
            ],
            [
             0.4,
             "#fde0ef"
            ],
            [
             0.5,
             "#f7f7f7"
            ],
            [
             0.6,
             "#e6f5d0"
            ],
            [
             0.7,
             "#b8e186"
            ],
            [
             0.8,
             "#7fbc41"
            ],
            [
             0.9,
             "#4d9221"
            ],
            [
             1,
             "#276419"
            ]
           ],
           "sequential": [
            [
             0,
             "#0d0887"
            ],
            [
             0.1111111111111111,
             "#46039f"
            ],
            [
             0.2222222222222222,
             "#7201a8"
            ],
            [
             0.3333333333333333,
             "#9c179e"
            ],
            [
             0.4444444444444444,
             "#bd3786"
            ],
            [
             0.5555555555555556,
             "#d8576b"
            ],
            [
             0.6666666666666666,
             "#ed7953"
            ],
            [
             0.7777777777777778,
             "#fb9f3a"
            ],
            [
             0.8888888888888888,
             "#fdca26"
            ],
            [
             1,
             "#f0f921"
            ]
           ],
           "sequentialminus": [
            [
             0,
             "#0d0887"
            ],
            [
             0.1111111111111111,
             "#46039f"
            ],
            [
             0.2222222222222222,
             "#7201a8"
            ],
            [
             0.3333333333333333,
             "#9c179e"
            ],
            [
             0.4444444444444444,
             "#bd3786"
            ],
            [
             0.5555555555555556,
             "#d8576b"
            ],
            [
             0.6666666666666666,
             "#ed7953"
            ],
            [
             0.7777777777777778,
             "#fb9f3a"
            ],
            [
             0.8888888888888888,
             "#fdca26"
            ],
            [
             1,
             "#f0f921"
            ]
           ]
          },
          "colorway": [
           "#636efa",
           "#EF553B",
           "#00cc96",
           "#ab63fa",
           "#FFA15A",
           "#19d3f3",
           "#FF6692",
           "#B6E880",
           "#FF97FF",
           "#FECB52"
          ],
          "font": {
           "color": "#2a3f5f"
          },
          "geo": {
           "bgcolor": "white",
           "lakecolor": "white",
           "landcolor": "#E5ECF6",
           "showlakes": true,
           "showland": true,
           "subunitcolor": "white"
          },
          "hoverlabel": {
           "align": "left"
          },
          "hovermode": "closest",
          "mapbox": {
           "style": "light"
          },
          "paper_bgcolor": "white",
          "plot_bgcolor": "#E5ECF6",
          "polar": {
           "angularaxis": {
            "gridcolor": "white",
            "linecolor": "white",
            "ticks": ""
           },
           "bgcolor": "#E5ECF6",
           "radialaxis": {
            "gridcolor": "white",
            "linecolor": "white",
            "ticks": ""
           }
          },
          "scene": {
           "xaxis": {
            "backgroundcolor": "#E5ECF6",
            "gridcolor": "white",
            "gridwidth": 2,
            "linecolor": "white",
            "showbackground": true,
            "ticks": "",
            "zerolinecolor": "white"
           },
           "yaxis": {
            "backgroundcolor": "#E5ECF6",
            "gridcolor": "white",
            "gridwidth": 2,
            "linecolor": "white",
            "showbackground": true,
            "ticks": "",
            "zerolinecolor": "white"
           },
           "zaxis": {
            "backgroundcolor": "#E5ECF6",
            "gridcolor": "white",
            "gridwidth": 2,
            "linecolor": "white",
            "showbackground": true,
            "ticks": "",
            "zerolinecolor": "white"
           }
          },
          "shapedefaults": {
           "line": {
            "color": "#2a3f5f"
           }
          },
          "ternary": {
           "aaxis": {
            "gridcolor": "white",
            "linecolor": "white",
            "ticks": ""
           },
           "baxis": {
            "gridcolor": "white",
            "linecolor": "white",
            "ticks": ""
           },
           "bgcolor": "#E5ECF6",
           "caxis": {
            "gridcolor": "white",
            "linecolor": "white",
            "ticks": ""
           }
          },
          "title": {
           "x": 0.05
          },
          "xaxis": {
           "automargin": true,
           "gridcolor": "white",
           "linecolor": "white",
           "ticks": "",
           "title": {
            "standoff": 15
           },
           "zerolinecolor": "white",
           "zerolinewidth": 2
          },
          "yaxis": {
           "automargin": true,
           "gridcolor": "white",
           "linecolor": "white",
           "ticks": "",
           "title": {
            "standoff": 15
           },
           "zerolinecolor": "white",
           "zerolinewidth": 2
          }
         }
        },
        "title": {
         "text": "Rendimiento y riesgo de empresas del S&P 500 vs S&P 500"
        },
        "xaxis": {
         "anchor": "y",
         "domain": [
          0,
          1
         ],
         "title": {
          "text": "Volatilidad diaria"
         }
        },
        "yaxis": {
         "anchor": "x",
         "domain": [
          0,
          1
         ],
         "title": {
          "text": "Rendimiento medio diario"
         }
        }
       }
      }
     },
     "metadata": {},
     "output_type": "display_data"
    }
   ],
   "source": [
    "import pandas as pd\n",
    "import numpy as np\n",
    "import plotly.express as px\n",
    "\n",
    "# Creamos un dataframe con los datos de rendimiento y riesgo de cada empresa y del S&P 500\n",
    "df = pd.DataFrame({'Empresa': tickers + ['S&P 500'],\n",
    "                   'Rendimiento medio diario': mean_returns.values.tolist() + [mean_sp500],\n",
    "                   'Volatilidad diaria': std_returns.values.tolist() + [std_sp500]})\n",
    "\n",
    "# Generamos un gráfico de dispersión para comparar las empresas con el S&P 500 en términos de rendimiento y riesgo\n",
    "fig = px.scatter(df, x='Volatilidad diaria', y='Rendimiento medio diario', color='Empresa')\n",
    "\n",
    "# Agregamos una línea que representa el rendimiento y el riesgo del S&P 500\n",
    "fig.add_shape(type='line', x0=0, y0=mean_sp500, x1=std_sp500*np.sqrt(252), y1=mean_sp500, line=dict(color='black', dash='dash'))\n",
    "\n",
    "# Agregamos texto para identificar la línea del S&P 500\n",
    "fig.add_annotation(x=std_sp500*np.sqrt(252), y=mean_sp500, text='S&P 500', showarrow=False, font=dict(size=14))\n",
    "\n",
    "# Agregamos título y etiquetas de los ejes\n",
    "fig.update_layout(title='Rendimiento y riesgo de empresas del S&P 500 vs S&P 500',\n",
    "                  xaxis_title='Volatilidad diaria',\n",
    "                  yaxis_title='Rendimiento medio diario')\n",
    "\n",
    "# Mostramos el gráfico\n",
    "fig.show()"
   ]
  },
  {
   "cell_type": "markdown",
   "metadata": {},
   "source": [
    "Hagamos lo mismo pero para sólo los últimos 5 años"
   ]
  },
  {
   "cell_type": "code",
   "execution_count": 20,
   "metadata": {},
   "outputs": [
    {
     "name": "stdout",
     "output_type": "stream",
     "text": [
      "[*********************100%***********************]  5 of 5 completed\n",
      "[*********************100%***********************]  1 of 1 completed\n"
     ]
    },
    {
     "data": {
      "application/vnd.plotly.v1+json": {
       "config": {
        "plotlyServerURL": "https://plot.ly"
       },
       "data": [
        {
         "hovertemplate": "Empresa=AAPL<br>Volatilidad diaria=%{x}<br>Rendimiento medio diario=%{y}<extra></extra>",
         "legendgroup": "AAPL",
         "marker": {
          "color": "#636efa",
          "symbol": "circle"
         },
         "mode": "markers",
         "name": "AAPL",
         "orientation": "v",
         "showlegend": true,
         "type": "scatter",
         "x": [
          0.02088662421930907
         ],
         "xaxis": "x",
         "y": [
          0.0012573711693724975
         ],
         "yaxis": "y"
        },
        {
         "hovertemplate": "Empresa=MSFT<br>Volatilidad diaria=%{x}<br>Rendimiento medio diario=%{y}<extra></extra>",
         "legendgroup": "MSFT",
         "marker": {
          "color": "#EF553B",
          "symbol": "circle"
         },
         "mode": "markers",
         "name": "MSFT",
         "orientation": "v",
         "showlegend": true,
         "type": "scatter",
         "x": [
          0.022668117398150698
         ],
         "xaxis": "x",
         "y": [
          0.0006380203224016148
         ],
         "yaxis": "y"
        },
        {
         "hovertemplate": "Empresa=AMZN<br>Volatilidad diaria=%{x}<br>Rendimiento medio diario=%{y}<extra></extra>",
         "legendgroup": "AMZN",
         "marker": {
          "color": "#00cc96",
          "symbol": "circle"
         },
         "mode": "markers",
         "name": "AMZN",
         "orientation": "v",
         "showlegend": true,
         "type": "scatter",
         "x": [
          0.020023132548480798
         ],
         "xaxis": "x",
         "y": [
          0.0007143491747768987
         ],
         "yaxis": "y"
        },
        {
         "hovertemplate": "Empresa=NVDA<br>Volatilidad diaria=%{x}<br>Rendimiento medio diario=%{y}<extra></extra>",
         "legendgroup": "NVDA",
         "marker": {
          "color": "#ab63fa",
          "symbol": "circle"
         },
         "mode": "markers",
         "name": "NVDA",
         "orientation": "v",
         "showlegend": true,
         "type": "scatter",
         "x": [
          0.019548267895450003
         ],
         "xaxis": "x",
         "y": [
          0.0011387461418918025
         ],
         "yaxis": "y"
        },
        {
         "hovertemplate": "Empresa=GOOGL<br>Volatilidad diaria=%{x}<br>Rendimiento medio diario=%{y}<extra></extra>",
         "legendgroup": "GOOGL",
         "marker": {
          "color": "#FFA15A",
          "symbol": "circle"
         },
         "mode": "markers",
         "name": "GOOGL",
         "orientation": "v",
         "showlegend": true,
         "type": "scatter",
         "x": [
          0.03287010498890673
         ],
         "xaxis": "x",
         "y": [
          0.0018297501081222377
         ],
         "yaxis": "y"
        },
        {
         "hovertemplate": "Empresa=S&P 500<br>Volatilidad diaria=%{x}<br>Rendimiento medio diario=%{y}<extra></extra>",
         "legendgroup": "S&P 500",
         "marker": {
          "color": "#19d3f3",
          "symbol": "circle"
         },
         "mode": "markers",
         "name": "S&P 500",
         "orientation": "v",
         "showlegend": true,
         "type": "scatter",
         "x": [
          0.013654551838047852
         ],
         "xaxis": "x",
         "y": [
          0.00038824259498748155
         ],
         "yaxis": "y"
        }
       ],
       "layout": {
        "annotations": [
         {
          "font": {
           "size": 14
          },
          "showarrow": false,
          "text": "S&P 500",
          "x": 0.21675929056508714,
          "y": 0.00038824259498748155
         }
        ],
        "legend": {
         "title": {
          "text": "Empresa"
         },
         "tracegroupgap": 0
        },
        "margin": {
         "t": 60
        },
        "shapes": [
         {
          "line": {
           "color": "gainsboro",
           "dash": "dash"
          },
          "type": "line",
          "x0": 0,
          "x1": 0.21675929056508714,
          "y0": 0.00038824259498748155,
          "y1": 0.00038824259498748155
         }
        ],
        "template": {
         "data": {
          "bar": [
           {
            "error_x": {
             "color": "#2a3f5f"
            },
            "error_y": {
             "color": "#2a3f5f"
            },
            "marker": {
             "line": {
              "color": "#E5ECF6",
              "width": 0.5
             },
             "pattern": {
              "fillmode": "overlay",
              "size": 10,
              "solidity": 0.2
             }
            },
            "type": "bar"
           }
          ],
          "barpolar": [
           {
            "marker": {
             "line": {
              "color": "#E5ECF6",
              "width": 0.5
             },
             "pattern": {
              "fillmode": "overlay",
              "size": 10,
              "solidity": 0.2
             }
            },
            "type": "barpolar"
           }
          ],
          "carpet": [
           {
            "aaxis": {
             "endlinecolor": "#2a3f5f",
             "gridcolor": "white",
             "linecolor": "white",
             "minorgridcolor": "white",
             "startlinecolor": "#2a3f5f"
            },
            "baxis": {
             "endlinecolor": "#2a3f5f",
             "gridcolor": "white",
             "linecolor": "white",
             "minorgridcolor": "white",
             "startlinecolor": "#2a3f5f"
            },
            "type": "carpet"
           }
          ],
          "choropleth": [
           {
            "colorbar": {
             "outlinewidth": 0,
             "ticks": ""
            },
            "type": "choropleth"
           }
          ],
          "contour": [
           {
            "colorbar": {
             "outlinewidth": 0,
             "ticks": ""
            },
            "colorscale": [
             [
              0,
              "#0d0887"
             ],
             [
              0.1111111111111111,
              "#46039f"
             ],
             [
              0.2222222222222222,
              "#7201a8"
             ],
             [
              0.3333333333333333,
              "#9c179e"
             ],
             [
              0.4444444444444444,
              "#bd3786"
             ],
             [
              0.5555555555555556,
              "#d8576b"
             ],
             [
              0.6666666666666666,
              "#ed7953"
             ],
             [
              0.7777777777777778,
              "#fb9f3a"
             ],
             [
              0.8888888888888888,
              "#fdca26"
             ],
             [
              1,
              "#f0f921"
             ]
            ],
            "type": "contour"
           }
          ],
          "contourcarpet": [
           {
            "colorbar": {
             "outlinewidth": 0,
             "ticks": ""
            },
            "type": "contourcarpet"
           }
          ],
          "heatmap": [
           {
            "colorbar": {
             "outlinewidth": 0,
             "ticks": ""
            },
            "colorscale": [
             [
              0,
              "#0d0887"
             ],
             [
              0.1111111111111111,
              "#46039f"
             ],
             [
              0.2222222222222222,
              "#7201a8"
             ],
             [
              0.3333333333333333,
              "#9c179e"
             ],
             [
              0.4444444444444444,
              "#bd3786"
             ],
             [
              0.5555555555555556,
              "#d8576b"
             ],
             [
              0.6666666666666666,
              "#ed7953"
             ],
             [
              0.7777777777777778,
              "#fb9f3a"
             ],
             [
              0.8888888888888888,
              "#fdca26"
             ],
             [
              1,
              "#f0f921"
             ]
            ],
            "type": "heatmap"
           }
          ],
          "heatmapgl": [
           {
            "colorbar": {
             "outlinewidth": 0,
             "ticks": ""
            },
            "colorscale": [
             [
              0,
              "#0d0887"
             ],
             [
              0.1111111111111111,
              "#46039f"
             ],
             [
              0.2222222222222222,
              "#7201a8"
             ],
             [
              0.3333333333333333,
              "#9c179e"
             ],
             [
              0.4444444444444444,
              "#bd3786"
             ],
             [
              0.5555555555555556,
              "#d8576b"
             ],
             [
              0.6666666666666666,
              "#ed7953"
             ],
             [
              0.7777777777777778,
              "#fb9f3a"
             ],
             [
              0.8888888888888888,
              "#fdca26"
             ],
             [
              1,
              "#f0f921"
             ]
            ],
            "type": "heatmapgl"
           }
          ],
          "histogram": [
           {
            "marker": {
             "pattern": {
              "fillmode": "overlay",
              "size": 10,
              "solidity": 0.2
             }
            },
            "type": "histogram"
           }
          ],
          "histogram2d": [
           {
            "colorbar": {
             "outlinewidth": 0,
             "ticks": ""
            },
            "colorscale": [
             [
              0,
              "#0d0887"
             ],
             [
              0.1111111111111111,
              "#46039f"
             ],
             [
              0.2222222222222222,
              "#7201a8"
             ],
             [
              0.3333333333333333,
              "#9c179e"
             ],
             [
              0.4444444444444444,
              "#bd3786"
             ],
             [
              0.5555555555555556,
              "#d8576b"
             ],
             [
              0.6666666666666666,
              "#ed7953"
             ],
             [
              0.7777777777777778,
              "#fb9f3a"
             ],
             [
              0.8888888888888888,
              "#fdca26"
             ],
             [
              1,
              "#f0f921"
             ]
            ],
            "type": "histogram2d"
           }
          ],
          "histogram2dcontour": [
           {
            "colorbar": {
             "outlinewidth": 0,
             "ticks": ""
            },
            "colorscale": [
             [
              0,
              "#0d0887"
             ],
             [
              0.1111111111111111,
              "#46039f"
             ],
             [
              0.2222222222222222,
              "#7201a8"
             ],
             [
              0.3333333333333333,
              "#9c179e"
             ],
             [
              0.4444444444444444,
              "#bd3786"
             ],
             [
              0.5555555555555556,
              "#d8576b"
             ],
             [
              0.6666666666666666,
              "#ed7953"
             ],
             [
              0.7777777777777778,
              "#fb9f3a"
             ],
             [
              0.8888888888888888,
              "#fdca26"
             ],
             [
              1,
              "#f0f921"
             ]
            ],
            "type": "histogram2dcontour"
           }
          ],
          "mesh3d": [
           {
            "colorbar": {
             "outlinewidth": 0,
             "ticks": ""
            },
            "type": "mesh3d"
           }
          ],
          "parcoords": [
           {
            "line": {
             "colorbar": {
              "outlinewidth": 0,
              "ticks": ""
             }
            },
            "type": "parcoords"
           }
          ],
          "pie": [
           {
            "automargin": true,
            "type": "pie"
           }
          ],
          "scatter": [
           {
            "fillpattern": {
             "fillmode": "overlay",
             "size": 10,
             "solidity": 0.2
            },
            "type": "scatter"
           }
          ],
          "scatter3d": [
           {
            "line": {
             "colorbar": {
              "outlinewidth": 0,
              "ticks": ""
             }
            },
            "marker": {
             "colorbar": {
              "outlinewidth": 0,
              "ticks": ""
             }
            },
            "type": "scatter3d"
           }
          ],
          "scattercarpet": [
           {
            "marker": {
             "colorbar": {
              "outlinewidth": 0,
              "ticks": ""
             }
            },
            "type": "scattercarpet"
           }
          ],
          "scattergeo": [
           {
            "marker": {
             "colorbar": {
              "outlinewidth": 0,
              "ticks": ""
             }
            },
            "type": "scattergeo"
           }
          ],
          "scattergl": [
           {
            "marker": {
             "colorbar": {
              "outlinewidth": 0,
              "ticks": ""
             }
            },
            "type": "scattergl"
           }
          ],
          "scattermapbox": [
           {
            "marker": {
             "colorbar": {
              "outlinewidth": 0,
              "ticks": ""
             }
            },
            "type": "scattermapbox"
           }
          ],
          "scatterpolar": [
           {
            "marker": {
             "colorbar": {
              "outlinewidth": 0,
              "ticks": ""
             }
            },
            "type": "scatterpolar"
           }
          ],
          "scatterpolargl": [
           {
            "marker": {
             "colorbar": {
              "outlinewidth": 0,
              "ticks": ""
             }
            },
            "type": "scatterpolargl"
           }
          ],
          "scatterternary": [
           {
            "marker": {
             "colorbar": {
              "outlinewidth": 0,
              "ticks": ""
             }
            },
            "type": "scatterternary"
           }
          ],
          "surface": [
           {
            "colorbar": {
             "outlinewidth": 0,
             "ticks": ""
            },
            "colorscale": [
             [
              0,
              "#0d0887"
             ],
             [
              0.1111111111111111,
              "#46039f"
             ],
             [
              0.2222222222222222,
              "#7201a8"
             ],
             [
              0.3333333333333333,
              "#9c179e"
             ],
             [
              0.4444444444444444,
              "#bd3786"
             ],
             [
              0.5555555555555556,
              "#d8576b"
             ],
             [
              0.6666666666666666,
              "#ed7953"
             ],
             [
              0.7777777777777778,
              "#fb9f3a"
             ],
             [
              0.8888888888888888,
              "#fdca26"
             ],
             [
              1,
              "#f0f921"
             ]
            ],
            "type": "surface"
           }
          ],
          "table": [
           {
            "cells": {
             "fill": {
              "color": "#EBF0F8"
             },
             "line": {
              "color": "white"
             }
            },
            "header": {
             "fill": {
              "color": "#C8D4E3"
             },
             "line": {
              "color": "white"
             }
            },
            "type": "table"
           }
          ]
         },
         "layout": {
          "annotationdefaults": {
           "arrowcolor": "#2a3f5f",
           "arrowhead": 0,
           "arrowwidth": 1
          },
          "autotypenumbers": "strict",
          "coloraxis": {
           "colorbar": {
            "outlinewidth": 0,
            "ticks": ""
           }
          },
          "colorscale": {
           "diverging": [
            [
             0,
             "#8e0152"
            ],
            [
             0.1,
             "#c51b7d"
            ],
            [
             0.2,
             "#de77ae"
            ],
            [
             0.3,
             "#f1b6da"
            ],
            [
             0.4,
             "#fde0ef"
            ],
            [
             0.5,
             "#f7f7f7"
            ],
            [
             0.6,
             "#e6f5d0"
            ],
            [
             0.7,
             "#b8e186"
            ],
            [
             0.8,
             "#7fbc41"
            ],
            [
             0.9,
             "#4d9221"
            ],
            [
             1,
             "#276419"
            ]
           ],
           "sequential": [
            [
             0,
             "#0d0887"
            ],
            [
             0.1111111111111111,
             "#46039f"
            ],
            [
             0.2222222222222222,
             "#7201a8"
            ],
            [
             0.3333333333333333,
             "#9c179e"
            ],
            [
             0.4444444444444444,
             "#bd3786"
            ],
            [
             0.5555555555555556,
             "#d8576b"
            ],
            [
             0.6666666666666666,
             "#ed7953"
            ],
            [
             0.7777777777777778,
             "#fb9f3a"
            ],
            [
             0.8888888888888888,
             "#fdca26"
            ],
            [
             1,
             "#f0f921"
            ]
           ],
           "sequentialminus": [
            [
             0,
             "#0d0887"
            ],
            [
             0.1111111111111111,
             "#46039f"
            ],
            [
             0.2222222222222222,
             "#7201a8"
            ],
            [
             0.3333333333333333,
             "#9c179e"
            ],
            [
             0.4444444444444444,
             "#bd3786"
            ],
            [
             0.5555555555555556,
             "#d8576b"
            ],
            [
             0.6666666666666666,
             "#ed7953"
            ],
            [
             0.7777777777777778,
             "#fb9f3a"
            ],
            [
             0.8888888888888888,
             "#fdca26"
            ],
            [
             1,
             "#f0f921"
            ]
           ]
          },
          "colorway": [
           "#636efa",
           "#EF553B",
           "#00cc96",
           "#ab63fa",
           "#FFA15A",
           "#19d3f3",
           "#FF6692",
           "#B6E880",
           "#FF97FF",
           "#FECB52"
          ],
          "font": {
           "color": "#2a3f5f"
          },
          "geo": {
           "bgcolor": "white",
           "lakecolor": "white",
           "landcolor": "#E5ECF6",
           "showlakes": true,
           "showland": true,
           "subunitcolor": "white"
          },
          "hoverlabel": {
           "align": "left"
          },
          "hovermode": "closest",
          "mapbox": {
           "style": "light"
          },
          "paper_bgcolor": "white",
          "plot_bgcolor": "#E5ECF6",
          "polar": {
           "angularaxis": {
            "gridcolor": "white",
            "linecolor": "white",
            "ticks": ""
           },
           "bgcolor": "#E5ECF6",
           "radialaxis": {
            "gridcolor": "white",
            "linecolor": "white",
            "ticks": ""
           }
          },
          "scene": {
           "xaxis": {
            "backgroundcolor": "#E5ECF6",
            "gridcolor": "white",
            "gridwidth": 2,
            "linecolor": "white",
            "showbackground": true,
            "ticks": "",
            "zerolinecolor": "white"
           },
           "yaxis": {
            "backgroundcolor": "#E5ECF6",
            "gridcolor": "white",
            "gridwidth": 2,
            "linecolor": "white",
            "showbackground": true,
            "ticks": "",
            "zerolinecolor": "white"
           },
           "zaxis": {
            "backgroundcolor": "#E5ECF6",
            "gridcolor": "white",
            "gridwidth": 2,
            "linecolor": "white",
            "showbackground": true,
            "ticks": "",
            "zerolinecolor": "white"
           }
          },
          "shapedefaults": {
           "line": {
            "color": "#2a3f5f"
           }
          },
          "ternary": {
           "aaxis": {
            "gridcolor": "white",
            "linecolor": "white",
            "ticks": ""
           },
           "baxis": {
            "gridcolor": "white",
            "linecolor": "white",
            "ticks": ""
           },
           "bgcolor": "#E5ECF6",
           "caxis": {
            "gridcolor": "white",
            "linecolor": "white",
            "ticks": ""
           }
          },
          "title": {
           "x": 0.05
          },
          "xaxis": {
           "automargin": true,
           "gridcolor": "white",
           "linecolor": "white",
           "ticks": "",
           "title": {
            "standoff": 15
           },
           "zerolinecolor": "white",
           "zerolinewidth": 2
          },
          "yaxis": {
           "automargin": true,
           "gridcolor": "white",
           "linecolor": "white",
           "ticks": "",
           "title": {
            "standoff": 15
           },
           "zerolinecolor": "white",
           "zerolinewidth": 2
          }
         }
        },
        "title": {
         "text": "Rendimiento y riesgo de empresas del S&P 500 vs S&P 500"
        },
        "xaxis": {
         "anchor": "y",
         "domain": [
          0,
          1
         ],
         "range": [
          0,
          0.05
         ],
         "title": {
          "text": "Volatilidad diaria"
         }
        },
        "yaxis": {
         "anchor": "x",
         "domain": [
          0,
          1
         ],
         "title": {
          "text": "Rendimiento medio diario"
         }
        }
       }
      }
     },
     "metadata": {},
     "output_type": "display_data"
    }
   ],
   "source": [
    "import yfinance as yf\n",
    "import pandas as pd\n",
    "import plotly.express as px\n",
    "\n",
    "# Definimos una lista con los tickers de las empresas que queremos analizar\n",
    "tickers = ['AAPL', 'MSFT', 'AMZN', 'NVDA', 'GOOGL']\n",
    "\n",
    "# Descargamos los datos de los precios de cierre ajustados para los últimos 5 años\n",
    "data = yf.download(tickers, start='2018-01-01', end='2023-03-25')['Adj Close']\n",
    "\n",
    "# Calculamos los rendimientos diarios de las empresas y del S&P 500\n",
    "returns = data.pct_change().dropna()\n",
    "sp500 = yf.download('^GSPC', start='2018-01-01', end='2023-03-25')['Adj Close'].pct_change().dropna()\n",
    "\n",
    "# Calculamos estadísticas de rendimiento y riesgo para las empresas y el S&P 500\n",
    "mean_returns = returns.mean()\n",
    "std_returns = returns.std()\n",
    "mean_sp500 = sp500.mean()\n",
    "std_sp500 = sp500.std()\n",
    "\n",
    "# Creamos un dataframe con los datos de rendimiento y riesgo de cada empresa y del S&P 500\n",
    "df = pd.DataFrame({'Empresa': tickers + ['S&P 500'],\n",
    "                   'Rendimiento medio diario': mean_returns.values.tolist() + [mean_sp500],\n",
    "                   'Volatilidad diaria': std_returns.values.tolist() + [std_sp500]})\n",
    "\n",
    "# Generamos un gráfico de dispersión para comparar las empresas con el S&P 500 en términos de rendimiento y riesgo\n",
    "fig = px.scatter(df, x='Volatilidad diaria', y='Rendimiento medio diario', color='Empresa')\n",
    "\n",
    "# Agregamos una línea que representa el rendimiento y el riesgo del S&P 500\n",
    "fig.add_shape(type='line', x0=0, y0=mean_sp500, x1=std_sp500*np.sqrt(252), y1=mean_sp500, line=dict(color='gainsboro', dash='dash'))\n",
    "\n",
    "# Agregamos texto para identificar la línea del S&P 500\n",
    "fig.add_annotation(x=std_sp500*np.sqrt(252), y=mean_sp500, text='S&P 500', showarrow=False, font=dict(size=14))\n",
    "\n",
    "# Agregamos título y etiquetas de los ejes\n",
    "fig.update_layout(title='Rendimiento y riesgo de empresas del S&P 500 vs S&P 500',\n",
    "                  xaxis_title='Volatilidad diaria',\n",
    "                  yaxis_title='Rendimiento medio diario')\n",
    "\n",
    "# Limitamos la gráfica en el eje x hasta 0.05\n",
    "fig.update_xaxes(range=[0,0.05])\n",
    "\n",
    "# Mostramos el gráfico\n",
    "fig.show()\n"
   ]
  },
  {
   "cell_type": "markdown",
   "metadata": {},
   "source": [
    "Comparativo de rendimiento y volatilidad anual para los últimos 5 años"
   ]
  },
  {
   "cell_type": "code",
   "execution_count": null,
   "metadata": {},
   "outputs": [],
   "source": [
    "import pandas as pd\n",
    "import numpy as np\n",
    "import yfinance as yf\n",
    "\n",
    "# Definimos una lista con los tickers de las empresas que queremos analizar\n",
    "tickers = ['AAPL', 'MSFT', 'AMZN', 'NVDA', 'GOOGL', 'SPY']\n",
    "\n",
    "# Descargamos los datos de los precios de cierre ajustados para los últimos 5 años\n",
    "data = yf.download(tickers, start='2018-01-01', end='2023-03-27')['Adj Close']\n",
    "\n",
    "# Creamos una función para calcular el rendimiento y la volatilidad anual de una serie de precios\n",
    "def calculate_annual_metrics(prices):\n",
    "    returns = prices.pct_change().dropna()\n",
    "    annual_returns = (1 + returns.mean()) ** 252 - 1\n",
    "    annual_volatility = returns.std() * np.sqrt(252)\n",
    "    return annual_returns, annual_volatility\n",
    "\n",
    "\n",
    "# Creamos un diccionario para almacenar los datos de rendimiento y volatilidad de cada empresa y del índice\n",
    "metrics = {'Empresa': [], 'Año': [], 'Rendimiento anual': [], 'Volatilidad anual': []}\n",
    "\n",
    "# Calculamos el rendimiento y la volatilidad anual para cada empresa y para el índice en los años 2018, 2019, 2020, 2021, 2022 y 2023\n",
    "for ticker in tickers:\n",
    "    prices = data[ticker]\n",
    "    for year in [2018, 2019, 2020, 2021, 2022, 2022]:\n",
    "        year_prices = prices[f'{year}-01-01':f'{year}-12-31']\n",
    "        annual_returns, annual_volatility = calculate_annual_metrics(year_prices)\n",
    "        metrics['Empresa'].append(ticker)\n",
    "        metrics['Año'].append(year)\n",
    "        metrics['Rendimiento anual'].append(annual_returns)\n",
    "        metrics['Volatilidad anual'].append(annual_volatility)\n",
    "        \n",
    "# Agregar al diccionario\n",
    "metrics['Empresa'].append(ticker)\n",
    "metrics['Año'].append(year)\n",
    "metrics['Rendimiento anual'].append(annual_returns)\n",
    "metrics['Volatilidad anual'].append(annual_volatility)\n",
    "\n",
    "def calcula_metricas_2023(prices):\n",
    "    returns = prices.pct_change().dropna()\n",
    "    n_days = len(prices.loc['2023-01-01':'2023-03-27'].index.unique()) - 1\n",
    "    annual_returns = (1 + returns.mean()) ** n_days - 1\n",
    "    annual_volatility = returns.std() * np.sqrt(n_days)\n",
    "    return annual_returns, annual_volatility\n",
    "\n",
    "        \n",
    "# Calcular rendimiento anual y volatilidad para lo que va del 2023:\n",
    "for ticker in tickers:\n",
    "    prices = data[ticker]\n",
    "    year_prices = prices['2023-01-01':'2023-12-31']\n",
    "    annual_returns, annual_volatility = calcula_metricas_2023(year_prices)\n",
    "    metrics['Empresa'].append(ticker)\n",
    "    metrics['Año'].append(2023)\n",
    "    metrics['Rendimiento anual'].append(annual_returns)\n",
    "    metrics['Volatilidad anual'].append(annual_volatility)\n",
    "\n",
    "\n",
    "# Creamos un dataframe con los datos de rendimiento y volatilidad anual para cada empresa y para el índice\n",
    "df = pd.DataFrame(metrics)\n",
    "\n",
    "# Ordenamos el dataframe por año\n",
    "df = df.sort_values(['Año', 'Rendimiento anual'], ascending=[True, False])\n",
    "\n",
    "# Mostramos la tabla resultante\n",
    "print(df)"
   ]
  },
  {
   "cell_type": "code",
   "execution_count": 32,
   "metadata": {},
   "outputs": [
    {
     "data": {
      "image/png": "[encoded data removed]",
      "text/plain": [
       "<Figure size 1000x600 with 1 Axes>"
      ]
     },
     "metadata": {},
     "output_type": "display_data"
    }
   ],
   "source": [
    "import matplotlib.pyplot as plt\n",
    "\n",
    "# Agrupamos los datos por empresa y año y calculamos el rendimiento promedio\n",
    "df_grouped = df.groupby(['Empresa', 'Año']).mean().reset_index()\n",
    "\n",
    "# Creamos una lista con los años\n",
    "years = df_grouped['Año'].unique()\n",
    "\n",
    "# Creamos una figura y ejes\n",
    "fig, ax = plt.subplots(figsize=(10, 6))\n",
    "\n",
    "# Creamos una barra para cada empresa en cada año\n",
    "for i, company in enumerate(df_grouped['Empresa'].unique()):\n",
    "    values = df_grouped[df_grouped['Empresa']==company]['Rendimiento anual']\n",
    "    ax.bar(years+i*0.15, values, width=0.15, align='center', label=company)\n",
    "\n",
    "# Agregamos etiquetas y título\n",
    "ax.set_xticks(years+0.3)\n",
    "ax.set_xticklabels(years)\n",
    "ax.set_xlabel('Año')\n",
    "ax.set_ylabel('Rendimiento anual')\n",
    "ax.set_title('Rendimiento anual de las empresas por año')\n",
    "\n",
    "# Agregamos leyenda\n",
    "ax.legend()\n",
    "\n",
    "# Mostramos la figura\n",
    "plt.show()"
   ]
  },
  {
   "cell_type": "code",
   "execution_count": 14,
   "metadata": {},
   "outputs": [
    {
     "name": "stdout",
     "output_type": "stream",
     "text": [
      "[*********************100%***********************]  6 of 6 completed\n"
     ]
    },
    {
     "data": {
      "image/png": "[encoded data removed]",
      "text/plain": [
       "<Figure size 1200x800 with 1 Axes>"
      ]
     },
     "metadata": {},
     "output_type": "display_data"
    }
   ],
   "source": [
    "import pandas as pd\n",
    "import yfinance as yf\n",
    "import matplotlib.pyplot as plt\n",
    "import matplotlib.dates as mdates\n",
    "\n",
    "# Definimos una lista con los tickers de las empresas que queremos analizar\n",
    "tickers = ['AAPL', 'MSFT', 'AMZN', 'NVDA', 'GOOGL', 'SPY']\n",
    "\n",
    "# Descargamos los datos de los precios de cierre ajustados para los últimos 5 años\n",
    "data = yf.download(tickers, start='2018-01-01', end='2023-03-25')['Adj Close']\n",
    "\n",
    "# Graficamos el precio de cierre ajustado de cada empresa y del índice en función del tiempo\n",
    "ax = data.plot(figsize=(12, 8))\n",
    "ax.grid(True)\n",
    "\n",
    "# Formateamos las etiquetas del eje x para que se muestren las fechas de forma legible\n",
    "date_format = mdates.DateFormatter('%Y-%m-%d')\n",
    "ax.xaxis.set_major_formatter(date_format)\n",
    "plt.xticks(rotation=45, ha='right')\n",
    "\n",
    "plt.title('Precio de cierre ajustado de las empresas y del índice')\n",
    "plt.xlabel('Fecha')\n",
    "plt.ylabel('Precio de cierre ajustado')\n",
    "plt.show()"
   ]
  }
 ],
 "metadata": {
  "kernelspec": {
   "display_name": "Python 3.11.1 ('sp500_venv')",
   "language": "python",
   "name": "python3"
  },
  "language_info": {
   "codemirror_mode": {
    "name": "ipython",
    "version": 3
   },
   "file_extension": ".py",
   "mimetype": "text/x-python",
   "name": "python",
   "nbconvert_exporter": "python",
   "pygments_lexer": "ipython3",
   "version": "3.11.1"
  },
  "orig_nbformat": 4,
  "vscode": {
   "interpreter": {
    "hash": "52f9fc8391b9e9f34c4976290c76777fccc14e956a082f71554f7ef17ef1c43b"
   }
  }
 },
 "nbformat": 4,
 "nbformat_minor": 2
}
