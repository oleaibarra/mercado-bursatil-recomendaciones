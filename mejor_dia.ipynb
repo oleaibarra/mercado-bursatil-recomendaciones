{
 "cells": [
  {
   "cell_type": "code",
   "execution_count": 6,
   "metadata": {},
   "outputs": [],
   "source": [
    "import pandas as pd\n",
    "\n",
    "# cargamos el dataframe del archivo parquet\n",
    "data = pd.read_parquet('data_sp500_mas_spy.parquet')"
   ]
  },
  {
   "cell_type": "code",
   "execution_count": 7,
   "metadata": {},
   "outputs": [],
   "source": [
    "# Quitamos las empresas (columnas) que no tienen información completa para los últimos 5 años\n",
    "df = data.dropna(axis=1)"
   ]
  },
  {
   "cell_type": "code",
   "execution_count": 8,
   "metadata": {},
   "outputs": [],
   "source": [
    "# creamos un diccionario para almacenar los días más convenientes para cada ticker\n",
    "dias_convenientes = {}\n",
    "\n",
    "# iteramos sobre cada ticker\n",
    "for ticker in df.columns:\n",
    "    # agrupamos los datos por día de la semana y calculamos el promedio de los precios de cierre\n",
    "    precios_por_dia = df.groupby(df.index.dayofweek)[ticker].mean()\n",
    "    # encontramos el día con el precio promedio más bajo y lo agregamos al diccionario\n",
    "    dia_conveniente = precios_por_dia.idxmin()\n",
    "    dias_convenientes[ticker] = dia_conveniente"
   ]
  },
  {
   "cell_type": "code",
   "execution_count": 10,
   "metadata": {},
   "outputs": [],
   "source": [
    "# Convertimos diccionario a dataframe\n",
    "df1 = pd.DataFrame({\n",
    "    \"dia_invertir\": dias_convenientes\n",
    "})"
   ]
  },
  {
   "cell_type": "code",
   "execution_count": 11,
   "metadata": {},
   "outputs": [],
   "source": [
    "df2 = pd.read_parquet('df_metrics_all.parquet')\n",
    "# Concatenamos los dataframes\n",
    "df_metrics = pd.concat([df2, df1], axis=1)"
   ]
  },
  {
   "cell_type": "code",
   "execution_count": 12,
   "metadata": {},
   "outputs": [
    {
     "data": {
      "text/html": [
       "<div>\n",
       "<style scoped>\n",
       "    .dataframe tbody tr th:only-of-type {\n",
       "        vertical-align: middle;\n",
       "    }\n",
       "\n",
       "    .dataframe tbody tr th {\n",
       "        vertical-align: top;\n",
       "    }\n",
       "\n",
       "    .dataframe thead th {\n",
       "        text-align: right;\n",
       "    }\n",
       "</style>\n",
       "<table border=\"1\" class=\"dataframe\">\n",
       "  <thead>\n",
       "    <tr style=\"text-align: right;\">\n",
       "      <th></th>\n",
       "      <th>daily_volume</th>\n",
       "      <th>market_cap</th>\n",
       "      <th>avg_daily_returns</th>\n",
       "      <th>avg_anual_returns</th>\n",
       "      <th>avg_daily_volatility</th>\n",
       "      <th>avg_anual_volatility</th>\n",
       "      <th>sharpe_ratio</th>\n",
       "      <th>trynor_ratio</th>\n",
       "      <th>information_ratio</th>\n",
       "      <th>beta</th>\n",
       "      <th>dia_invertir</th>\n",
       "    </tr>\n",
       "  </thead>\n",
       "  <tbody>\n",
       "    <tr>\n",
       "      <th>A</th>\n",
       "      <td>1.570100e+06</td>\n",
       "      <td>39218958336</td>\n",
       "      <td>0.000715</td>\n",
       "      <td>0.197357</td>\n",
       "      <td>0.018503</td>\n",
       "      <td>0.293731</td>\n",
       "      <td>0.551720</td>\n",
       "      <td>0.157320</td>\n",
       "      <td>0.671898</td>\n",
       "      <td>1.014853</td>\n",
       "      <td>0</td>\n",
       "    </tr>\n",
       "    <tr>\n",
       "      <th>AAL</th>\n",
       "      <td>2.092056e+07</td>\n",
       "      <td>9107004416</td>\n",
       "      <td>-0.000274</td>\n",
       "      <td>-0.066645</td>\n",
       "      <td>0.038467</td>\n",
       "      <td>0.610653</td>\n",
       "      <td>-0.166945</td>\n",
       "      <td>-0.073586</td>\n",
       "      <td>-0.109138</td>\n",
       "      <td>1.418011</td>\n",
       "      <td>2</td>\n",
       "    </tr>\n",
       "    <tr>\n",
       "      <th>AAP</th>\n",
       "      <td>1.790403e+06</td>\n",
       "      <td>6860349440</td>\n",
       "      <td>0.000341</td>\n",
       "      <td>0.089818</td>\n",
       "      <td>0.021532</td>\n",
       "      <td>0.341805</td>\n",
       "      <td>0.159500</td>\n",
       "      <td>0.058602</td>\n",
       "      <td>0.262775</td>\n",
       "      <td>0.889349</td>\n",
       "      <td>4</td>\n",
       "    </tr>\n",
       "    <tr>\n",
       "      <th>AAPL</th>\n",
       "      <td>6.435345e+07</td>\n",
       "      <td>2494322442240</td>\n",
       "      <td>0.001247</td>\n",
       "      <td>0.368981</td>\n",
       "      <td>0.020882</td>\n",
       "      <td>0.331492</td>\n",
       "      <td>1.006605</td>\n",
       "      <td>0.266041</td>\n",
       "      <td>1.113093</td>\n",
       "      <td>1.245226</td>\n",
       "      <td>0</td>\n",
       "    </tr>\n",
       "    <tr>\n",
       "      <th>ABBV</th>\n",
       "      <td>6.754833e+06</td>\n",
       "      <td>279175168000</td>\n",
       "      <td>0.000702</td>\n",
       "      <td>0.193318</td>\n",
       "      <td>0.017807</td>\n",
       "      <td>0.282678</td>\n",
       "      <td>0.559004</td>\n",
       "      <td>0.228811</td>\n",
       "      <td>0.683881</td>\n",
       "      <td>0.680118</td>\n",
       "      <td>0</td>\n",
       "    </tr>\n",
       "  </tbody>\n",
       "</table>\n",
       "</div>"
      ],
      "text/plain": [
       "      daily_volume     market_cap  avg_daily_returns  avg_anual_returns  \\\n",
       "A     1.570100e+06    39218958336           0.000715           0.197357   \n",
       "AAL   2.092056e+07     9107004416          -0.000274          -0.066645   \n",
       "AAP   1.790403e+06     6860349440           0.000341           0.089818   \n",
       "AAPL  6.435345e+07  2494322442240           0.001247           0.368981   \n",
       "ABBV  6.754833e+06   279175168000           0.000702           0.193318   \n",
       "\n",
       "      avg_daily_volatility  avg_anual_volatility  sharpe_ratio  trynor_ratio  \\\n",
       "A                 0.018503              0.293731      0.551720      0.157320   \n",
       "AAL               0.038467              0.610653     -0.166945     -0.073586   \n",
       "AAP               0.021532              0.341805      0.159500      0.058602   \n",
       "AAPL              0.020882              0.331492      1.006605      0.266041   \n",
       "ABBV              0.017807              0.282678      0.559004      0.228811   \n",
       "\n",
       "      information_ratio      beta  dia_invertir  \n",
       "A              0.671898  1.014853             0  \n",
       "AAL           -0.109138  1.418011             2  \n",
       "AAP            0.262775  0.889349             4  \n",
       "AAPL           1.113093  1.245226             0  \n",
       "ABBV           0.683881  0.680118             0  "
      ]
     },
     "execution_count": 12,
     "metadata": {},
     "output_type": "execute_result"
    }
   ],
   "source": [
    "df_metrics.head()"
   ]
  },
  {
   "cell_type": "code",
   "execution_count": 13,
   "metadata": {},
   "outputs": [],
   "source": [
    "df_metrics.to_parquet('df_metrics_all.parquet')"
   ]
  }
 ],
 "metadata": {
  "kernelspec": {
   "display_name": "Python 3.11.1 ('sp500_venv')",
   "language": "python",
   "name": "python3"
  },
  "language_info": {
   "codemirror_mode": {
    "name": "ipython",
    "version": 3
   },
   "file_extension": ".py",
   "mimetype": "text/x-python",
   "name": "python",
   "nbconvert_exporter": "python",
   "pygments_lexer": "ipython3",
   "version": "3.11.1"
  },
  "orig_nbformat": 4,
  "vscode": {
   "interpreter": {
    "hash": "52f9fc8391b9e9f34c4976290c76777fccc14e956a082f71554f7ef17ef1c43b"
   }
  }
 },
 "nbformat": 4,
 "nbformat_minor": 2
}
